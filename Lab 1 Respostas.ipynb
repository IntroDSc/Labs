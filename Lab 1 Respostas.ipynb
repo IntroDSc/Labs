{
 "cells": [
  {
   "cell_type": "markdown",
   "id": "6aa6e35b",
   "metadata": {},
   "source": [
    "<strong><font size = \"4\" color = \"black\">Introdução à Ciência de Dados</font></strong><br>\n",
    "<font size = \"3\" color = \"gray\">Prof. Valter Moreno</font><br>\n",
    "<font size = \"3\" color = \"gray\">2022</font><br>  "
   ]
  },
  {
   "cell_type": "markdown",
   "id": "af6e9bdd",
   "metadata": {},
   "source": [
    "<hr style=\"border:0.1px solid gray\"> </hr>\n",
    "<font size = \"5\" color = \"black\">Introdução ao Python</font><p>\n",
    "<font size = \"5\" color = \"black\">Laboratório 1: Operações com estruturas de dados</font>\n",
    "<hr style=\"border:0.1px solid gray\"> </hr>"
   ]
  },
  {
   "cell_type": "markdown",
   "id": "54d8660b",
   "metadata": {},
   "source": [
    "1.  Crie uma lista com a sequência de números pares de 0 a 50 usando as funções `arange` e `tolist` do pacote **numpy**."
   ]
  },
  {
   "cell_type": "code",
   "execution_count": 1,
   "id": "57e91d55",
   "metadata": {},
   "outputs": [],
   "source": [
    "import numpy as np\n",
    "np.random.seed(123)"
   ]
  },
  {
   "cell_type": "code",
   "execution_count": 9,
   "id": "51bde2a7",
   "metadata": {
    "scrolled": true
   },
   "outputs": [
    {
     "name": "stdout",
     "output_type": "stream",
     "text": [
      "[0, 2, 4, 6, 8, 10, 12, 14, 16, 18, 20, 22, 24, 26, 28, 30, 32, 34, 36, 38, 40, 42, 44, 46, 48, 50]\n"
     ]
    }
   ],
   "source": [
    "lista = np.arange(0, 51, 2).tolist()\n",
    "print(lista)"
   ]
  },
  {
   "cell_type": "markdown",
   "id": "bc802c00",
   "metadata": {},
   "source": [
    "2. Use o módulo **numpy** para criar uma tupla com 10 números aleatórios uniformemente distribuídos entre 1 e 5."
   ]
  },
  {
   "cell_type": "code",
   "execution_count": 43,
   "id": "4b30aef0",
   "metadata": {},
   "outputs": [
    {
     "name": "stdout",
     "output_type": "stream",
     "text": [
      "(2, 1, 2, 4, 4, 1, 4, 3, 5, 4)\n"
     ]
    }
   ],
   "source": [
    "tupla = tuple(np.random.randint(1, 6, 10))\n",
    "print(tupla)"
   ]
  },
  {
   "cell_type": "markdown",
   "id": "039b8bf3",
   "metadata": {},
   "source": [
    "3. Calule a soma, a média, e o desvio padrão para a lista e a tupla criadas acima. Armazene todos os resultados num dicionário."
   ]
  },
  {
   "cell_type": "code",
   "execution_count": 46,
   "id": "a64c4790",
   "metadata": {},
   "outputs": [
    {
     "data": {
      "text/plain": [
       "{'Lista': [651, 24.11111111111111, 15.401619283153636],\n",
       " 'Tupla': [24.11111111111111, 3.0, 1.3416407864998738]}"
      ]
     },
     "execution_count": 46,
     "metadata": {},
     "output_type": "execute_result"
    }
   ],
   "source": [
    "descritivas = {\"Somas\": [np.sum(lista), np.sum(tupla)],\n",
    "               \"Médias\": [np.mean(lista), np.mean(tupla)],\n",
    "               \"Desvios\": [np.std(lista), np.std(tupla)],\n",
    "              }\n",
    "descritivas"
   ]
  },
  {
   "cell_type": "markdown",
   "id": "fe3dd7f5",
   "metadata": {},
   "source": [
    "4. Crie um *set* com os nomes das capitais do Brasil, um *set* com os nomes das capitais dos estados do Sudeste, e um *set* com os nomes das capitais dos estados do Sul."
   ]
  },
  {
   "cell_type": "code",
   "execution_count": 5,
   "id": "31420b41",
   "metadata": {},
   "outputs": [
    {
     "name": "stdout",
     "output_type": "stream",
     "text": [
      "Capitais do Brasil:\n",
      " {'Belo Horizonte', 'Curitiba', 'Salvador', 'Macapá', 'Brasília', 'Campo Grande', 'Maceió', 'Aracaju', 'São Paulo', 'Rio Branco', 'Porto Alegre', 'Belém', 'Florianópolis', 'Cuiabá', 'Fortaleza', 'João Pessoa', 'Manaus', 'Palmas', 'Recife', 'Natal', 'São Luís', 'Teresina', 'Goiânia', 'Rio de Janeiro', 'Boa Vista', 'Porto Velho', 'Vitória'}\n",
      "\n",
      "Capitais do Sudeste:\n",
      " {'Vitória', 'Belo Horizonte', 'Rio de Janeiro', 'São Paulo'}\n",
      "\n",
      "Capitais do Sul:\n",
      " {'Curitiba', 'Porto Alegre', 'Florianópolis'}\n"
     ]
    }
   ],
   "source": [
    "capitais = \"\"\"Brasília\n",
    "Campo Grande\n",
    "Cuiabá\n",
    "Goiânia\n",
    "Aracaju\n",
    "Fortaleza\n",
    "João Pessoa\n",
    "Maceió\n",
    "Natal\n",
    "Recife\n",
    "Salvador\n",
    "São Luís\n",
    "Teresina\n",
    "Belém\n",
    "Boa Vista\n",
    "Macapá\n",
    "Manaus\n",
    "Palmas\n",
    "Porto Velho\n",
    "Rio Branco\n",
    "Belo Horizonte\n",
    "Rio de Janeiro\n",
    "São Paulo\n",
    "Vitória\n",
    "Curitiba\n",
    "Florianópolis\n",
    "Porto Alegre\"\"\"\n",
    "\n",
    "capitais = set(capitais.split(\"\\n\"))\n",
    "sudeste = {\"Belo Horizonte\", \"Rio de Janeiro\", \"São Paulo\", \"Vitória\"}\n",
    "sul = {\"Curitiba\", \"Florianópolis\", \"Porto Alegre\"}\n",
    "\n",
    "print(\"Capitais do Brasil:\\n\", capitais)\n",
    "print(\"\\nCapitais do Sudeste:\\n\", sudeste)\n",
    "print(\"\\nCapitais do Sul:\\n\", sul)"
   ]
  },
  {
   "cell_type": "markdown",
   "id": "6da1000f",
   "metadata": {},
   "source": [
    "5. Use os métodos `difference_update`, `intersection_update` e/ou `symmetric_difference_update` para deletar as capitais da região Sul do conjunto das capitais brasileiras."
   ]
  },
  {
   "cell_type": "code",
   "execution_count": 6,
   "id": "1c7c11b4",
   "metadata": {},
   "outputs": [
    {
     "data": {
      "text/plain": [
       "{'Aracaju',\n",
       " 'Belo Horizonte',\n",
       " 'Belém',\n",
       " 'Boa Vista',\n",
       " 'Brasília',\n",
       " 'Campo Grande',\n",
       " 'Cuiabá',\n",
       " 'Fortaleza',\n",
       " 'Goiânia',\n",
       " 'João Pessoa',\n",
       " 'Macapá',\n",
       " 'Maceió',\n",
       " 'Manaus',\n",
       " 'Natal',\n",
       " 'Palmas',\n",
       " 'Porto Velho',\n",
       " 'Recife',\n",
       " 'Rio Branco',\n",
       " 'Rio de Janeiro',\n",
       " 'Salvador',\n",
       " 'São Luís',\n",
       " 'São Paulo',\n",
       " 'Teresina',\n",
       " 'Vitória'}"
      ]
     },
     "execution_count": 6,
     "metadata": {},
     "output_type": "execute_result"
    }
   ],
   "source": [
    "capitais.difference_update(sul)\n",
    "capitais"
   ]
  },
  {
   "cell_type": "code",
   "execution_count": 7,
   "id": "e764d9f0",
   "metadata": {},
   "outputs": [
    {
     "data": {
      "text/plain": [
       "False"
      ]
     },
     "execution_count": 7,
     "metadata": {},
     "output_type": "execute_result"
    }
   ],
   "source": [
    "\"Curitiba\" in capitais"
   ]
  },
  {
   "cell_type": "markdown",
   "id": "8eb56429",
   "metadata": {},
   "source": [
    "6. Crie um conjunto que inclua as capitais das regiões Sul e Sudeste."
   ]
  },
  {
   "cell_type": "code",
   "execution_count": 8,
   "id": "da8049f2",
   "metadata": {},
   "outputs": [
    {
     "data": {
      "text/plain": [
       "{'Belo Horizonte',\n",
       " 'Curitiba',\n",
       " 'Florianópolis',\n",
       " 'Porto Alegre',\n",
       " 'Rio de Janeiro',\n",
       " 'São Paulo',\n",
       " 'Vitória'}"
      ]
     },
     "execution_count": 8,
     "metadata": {},
     "output_type": "execute_result"
    }
   ],
   "source": [
    "sul_sudeste = sul.union(sudeste)\n",
    "sul_sudeste"
   ]
  },
  {
   "cell_type": "markdown",
   "id": "7d6d9a5e",
   "metadata": {},
   "source": [
    "7. Crie um dicionário que tenha como chaves os nomes das regiões do Brasil. Para cada chave, o valor correspondente deve ser uma lista composta por duas tuplas: uma com os nomes dos estados da região, e outra com o nome das capitais desses estados."
   ]
  },
  {
   "cell_type": "code",
   "execution_count": 65,
   "id": "ce3df001",
   "metadata": {},
   "outputs": [
    {
     "data": {
      "text/plain": [
       "{'Centro-Oeste': [('Distrito Federal',\n",
       "   'Mato Grosso do Sul',\n",
       "   'Mato Grosso',\n",
       "   'Goiás'),\n",
       "  ('Brasília', 'Campo Grande', 'Cuiabá', 'Goiânia')],\n",
       " 'Nordeste': [('Sergipe',\n",
       "   'Ceará',\n",
       "   'Paraíba',\n",
       "   'Alagoas',\n",
       "   'Rio Grande do Norte',\n",
       "   'Pernambuco',\n",
       "   'Bahia',\n",
       "   'Maranhão',\n",
       "   'Piauí'),\n",
       "  ('Aracaju',\n",
       "   'Fortaleza',\n",
       "   'João Pessoa',\n",
       "   'Maceió',\n",
       "   'Natal',\n",
       "   'Recife',\n",
       "   'Salvador',\n",
       "   'São Luís',\n",
       "   'Teresina')],\n",
       " 'Norte': [('Pará',\n",
       "   'Roraima',\n",
       "   'Amapá',\n",
       "   'Amazonas',\n",
       "   'Tocantins',\n",
       "   'Rondônia',\n",
       "   'Acre'),\n",
       "  ('Belém',\n",
       "   'Boa Vista',\n",
       "   'Macapá',\n",
       "   'Manaus',\n",
       "   'Palmas',\n",
       "   'Porto Velho',\n",
       "   'Rio Branco')],\n",
       " 'Sudeste': [('Minas Gerais', 'Rio de Janeiro', 'São Paulo', 'Espírito Santo'),\n",
       "  ('Belo Horizonte', 'Rio de Janeiro', 'São Paulo', 'Vitória')],\n",
       " 'Sul': [('Paraná', 'Santa Catarina', 'Rio Grande do Sul'),\n",
       "  ('Curitiba', 'Florianópolis', 'Porto Alegre')]}"
      ]
     },
     "execution_count": 65,
     "metadata": {},
     "output_type": "execute_result"
    }
   ],
   "source": [
    "brasil = {\"Centro-Oeste\": [(\"Distrito Federal\", \"Mato Grosso do Sul\", \"Mato Grosso\", \"Goiás\"),\n",
    "                           (\"Brasília\", \"Campo Grande\", \"Cuiabá\", \"Goiânia\")],\n",
    "         \"Nordeste\": [('Sergipe', 'Ceará', 'Paraíba', 'Alagoas', 'Rio Grande do Norte', 'Pernambuco', \n",
    "                       'Bahia', 'Maranhão', 'Piauí'),\n",
    "                      ('Aracaju', 'Fortaleza', 'João Pessoa', 'Maceió', 'Natal', 'Recife', 'Salvador', \n",
    "                       'São Luís', 'Teresina')],\n",
    "         \"Norte\": [('Pará', 'Roraima', 'Amapá', 'Amazonas', 'Tocantins', 'Rondônia', 'Acre'),\n",
    "                   ('Belém', 'Boa Vista', 'Macapá', 'Manaus', 'Palmas', 'Porto Velho', 'Rio Branco')],\n",
    "         \"Sudeste\": [('Minas Gerais', 'Rio de Janeiro', 'São Paulo', 'Espírito Santo'),\n",
    "                     ('Belo Horizonte', 'Rio de Janeiro', 'São Paulo', 'Vitória')],\n",
    "         \"Sul\": [(\"Paraná\", \"Santa Catarina\", \"Rio Grande do Sul\"),\n",
    "                 (\"Curitiba\", \"Florianópolis\", \"Porto Alegre\")]}\n",
    "brasil"
   ]
  },
  {
   "cell_type": "markdown",
   "id": "3fa0eb48",
   "metadata": {},
   "source": [
    "8. No dicionário acima, escreva uma expressão que coloque a cadeia de caracteres da cidade \"Rio de Janeiro\" em letras maiúsculas."
   ]
  },
  {
   "cell_type": "code",
   "execution_count": 11,
   "id": "27673604",
   "metadata": {},
   "outputs": [
    {
     "data": {
      "text/plain": [
       "[('Minas Gerais', 'Rio de Janeiro', 'São Paulo', 'Espírito Santo'),\n",
       " ('Belo Horizonte', 'RIO DE JANEIRO', 'São Paulo', 'Vitória')]"
      ]
     },
     "execution_count": 11,
     "metadata": {},
     "output_type": "execute_result"
    }
   ],
   "source": [
    "caps_sudeste = list(brasil.get(\"Sudeste\")[1])\n",
    "caps_sudeste[1] = caps_sudeste[1].upper()\n",
    "brasil.get('Sudeste')[1] = tuple(caps_sudeste)\n",
    "brasil.get('Sudeste')"
   ]
  },
  {
   "cell_type": "markdown",
   "id": "4b162e40",
   "metadata": {},
   "source": [
    "9. Crie uma lista com as três primeiras capitais da região Norte. "
   ]
  },
  {
   "cell_type": "code",
   "execution_count": 12,
   "id": "4884c951",
   "metadata": {},
   "outputs": [
    {
     "data": {
      "text/plain": [
       "('Belém', 'Boa Vista', 'Macapá')"
      ]
     },
     "execution_count": 12,
     "metadata": {},
     "output_type": "execute_result"
    }
   ],
   "source": [
    "brasil.get('Norte')[1][:3]"
   ]
  },
  {
   "cell_type": "markdown",
   "id": "86c43602",
   "metadata": {},
   "source": [
    "10. Remova os dados do estado de São Paulo do seu dicionário."
   ]
  },
  {
   "cell_type": "code",
   "execution_count": 13,
   "id": "c516d98b",
   "metadata": {
    "scrolled": true
   },
   "outputs": [
    {
     "data": {
      "text/plain": [
       "[('Minas Gerais', 'Rio de Janeiro', 'São Paulo', 'Espírito Santo'),\n",
       " ('Belo Horizonte', 'RIO DE JANEIRO', 'São Paulo', 'Vitória')]"
      ]
     },
     "execution_count": 13,
     "metadata": {},
     "output_type": "execute_result"
    }
   ],
   "source": [
    "brasil.get(\"Sudeste\")"
   ]
  },
  {
   "cell_type": "code",
   "execution_count": 14,
   "id": "bd4a8be1",
   "metadata": {},
   "outputs": [
    {
     "data": {
      "text/plain": [
       "[('Minas Gerais', 'Rio de Janeiro', 'Espírito Santo'),\n",
       " ('Belo Horizonte', 'RIO DE JANEIRO', 'Vitória')]"
      ]
     },
     "execution_count": 14,
     "metadata": {},
     "output_type": "execute_result"
    }
   ],
   "source": [
    "sudeste = [list(brasil.get(\"Sudeste\")[0]), list(brasil.get(\"Sudeste\")[1])]\n",
    "sudeste[0].remove(\"São Paulo\")\n",
    "sudeste[1].remove(\"São Paulo\")\n",
    "brasil[\"Sudeste\"] = [tuple(sudeste[0]), tuple(sudeste[1])]\n",
    "brasil.get(\"Sudeste\")"
   ]
  },
  {
   "cell_type": "markdown",
   "id": "c1bd5699",
   "metadata": {},
   "source": [
    "11. Adicione a chave \"PIB\" ao dicionário. O valor correspondente deve ser uma lista com o PIB do Brasil nos últimos três anos."
   ]
  },
  {
   "cell_type": "code",
   "execution_count": 15,
   "id": "85061362",
   "metadata": {},
   "outputs": [
    {
     "data": {
      "text/plain": [
       "{'Centro-Oeste': [('Distrito Federal',\n",
       "   'Mato Grosso do Sul',\n",
       "   'Mato Grosso',\n",
       "   'Goiás'),\n",
       "  ('Brasília', 'Campo Grande', 'Cuiabá', 'Goiânia')],\n",
       " 'Nordeste': [('Sergipe',\n",
       "   'Ceará',\n",
       "   'Paraíba',\n",
       "   'Alagoas',\n",
       "   'Rio Grande do Norte',\n",
       "   'Pernambuco',\n",
       "   'Bahia',\n",
       "   'Maranhão',\n",
       "   'Piauí'),\n",
       "  ('Aracaju',\n",
       "   'Fortaleza',\n",
       "   'João Pessoa',\n",
       "   'Maceió',\n",
       "   'Natal',\n",
       "   'Recife',\n",
       "   'Salvador',\n",
       "   'São Luís',\n",
       "   'Teresina')],\n",
       " 'Norte': [('Pará',\n",
       "   'Roraima',\n",
       "   'Amapá',\n",
       "   'Amazonas',\n",
       "   'Tocantins',\n",
       "   'Rondônia',\n",
       "   'Acre'),\n",
       "  ('Belém',\n",
       "   'Boa Vista',\n",
       "   'Macapá',\n",
       "   'Manaus',\n",
       "   'Palmas',\n",
       "   'Porto Velho',\n",
       "   'Rio Branco')],\n",
       " 'Sudeste': [('Minas Gerais', 'Rio de Janeiro', 'Espírito Santo'),\n",
       "  ('Belo Horizonte', 'RIO DE JANEIRO', 'Vitória')],\n",
       " 'Sul': [('Paraná', 'Santa Catarina', 'Rio Grande do Sul'),\n",
       "  ('Curitiba', 'Florianópolis', 'Porto Alegre')],\n",
       " 'PIB': [7.6, 7.7, 7.4]}"
      ]
     },
     "execution_count": 15,
     "metadata": {},
     "output_type": "execute_result"
    }
   ],
   "source": [
    "brasil.update({\"PIB\": [7.6, 7.7, 7.4]})\n",
    "brasil"
   ]
  },
  {
   "cell_type": "markdown",
   "id": "8b5ccc90",
   "metadata": {},
   "source": [
    "12. Use um *list comprehension* para gerar uma lista de tuplas compostas por números pares entre 0 e 100 e seus quadrados, desde que esses quadrados sejam divisíveis por 5."
   ]
  },
  {
   "cell_type": "code",
   "execution_count": 16,
   "id": "33f55296",
   "metadata": {
    "scrolled": true
   },
   "outputs": [
    {
     "data": {
      "text/plain": [
       "[(0, 0),\n",
       " (10, 100),\n",
       " (20, 400),\n",
       " (30, 900),\n",
       " (40, 1600),\n",
       " (50, 2500),\n",
       " (60, 3600),\n",
       " (70, 4900),\n",
       " (80, 6400),\n",
       " (90, 8100),\n",
       " (100, 10000)]"
      ]
     },
     "execution_count": 16,
     "metadata": {},
     "output_type": "execute_result"
    }
   ],
   "source": [
    "[(x, x**2) for x in range(0, 101, 2) if x**2 % 5 == 0]"
   ]
  }
 ],
 "metadata": {
  "kernelspec": {
   "display_name": "Python 3 (ipykernel)",
   "language": "python",
   "name": "python3"
  },
  "language_info": {
   "codemirror_mode": {
    "name": "ipython",
    "version": 3
   },
   "file_extension": ".py",
   "mimetype": "text/x-python",
   "name": "python",
   "nbconvert_exporter": "python",
   "pygments_lexer": "ipython3",
   "version": "3.8.8"
  },
  "toc": {
   "base_numbering": 1,
   "nav_menu": {},
   "number_sections": true,
   "sideBar": true,
   "skip_h1_title": false,
   "title_cell": "Table of Contents",
   "title_sidebar": "Contents",
   "toc_cell": false,
   "toc_position": {},
   "toc_section_display": true,
   "toc_window_display": false
  },
  "varInspector": {
   "cols": {
    "lenName": 16,
    "lenType": 16,
    "lenVar": 40
   },
   "kernels_config": {
    "python": {
     "delete_cmd_postfix": "",
     "delete_cmd_prefix": "del ",
     "library": "var_list.py",
     "varRefreshCmd": "print(var_dic_list())"
    },
    "r": {
     "delete_cmd_postfix": ") ",
     "delete_cmd_prefix": "rm(",
     "library": "var_list.r",
     "varRefreshCmd": "cat(var_dic_list()) "
    }
   },
   "types_to_exclude": [
    "module",
    "function",
    "builtin_function_or_method",
    "instance",
    "_Feature"
   ],
   "window_display": false
  }
 },
 "nbformat": 4,
 "nbformat_minor": 5
}
