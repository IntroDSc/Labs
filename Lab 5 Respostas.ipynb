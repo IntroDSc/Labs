{
 "cells": [
  {
   "cell_type": "markdown",
   "id": "b7c12b30",
   "metadata": {},
   "source": [
    "<strong><font size = \"4\" color = \"black\">Introdução à Ciência de Dados</font></strong><br>\n",
    "<font size = \"3\" color = \"gray\">Prof. Valter Moreno</font><br>\n",
    "<font size = \"3\" color = \"gray\">2022</font><br>  "
   ]
  },
  {
   "cell_type": "markdown",
   "id": "63096780",
   "metadata": {},
   "source": [
    "<hr style=\"border:0.1px solid gray\"> </hr>\n",
    "<font size = \"5\">Introdução ao Python</font><p>\n",
    "<font size = \"5\">Laboratório 5: Geradores e Números Aleatórios</font></p>\n",
    "<hr style=\"border:0.1px solid gray\"> </hr>"
   ]
  },
  {
   "cell_type": "markdown",
   "id": "94d5cf2f",
   "metadata": {},
   "source": [
    "**1.** Crie uma classe que instancia geradores. O gerador deve retornar uma lista com as palavras de cada linha de um dado arquivo de texto. \n",
    "  - O caminho para o arquivo é fornecido quando um objeto da classe é criado.\n",
    "  - A classe deve ter métodos:\n",
    "    1. para ler e retornar todo o texto do arquivo como uma cadeia de caracteres; e\n",
    "    2. para ler a próxima linha do arquivo e retornar as palavras dessa linha numa lista (gerador).\n",
    "  - Deve-se tratar potenciais exceções."
   ]
  },
  {
   "cell_type": "code",
   "execution_count": 1,
   "id": "1c0cf177",
   "metadata": {},
   "outputs": [],
   "source": [
    "class Gera_linha:\n",
    "    \n",
    "    # Construtor:\n",
    "    \n",
    "    def __init__(self, caminho):\n",
    "        self.caminho = caminho\n",
    "    \n",
    "    # Métodos:\n",
    "    \n",
    "    def todo(self):\n",
    "        with open(self.caminho, \"r\") as arq:\n",
    "            texto = arq.read()\n",
    "            return texto\n",
    "    \n",
    "    def linha(self, total):\n",
    "        with open(self.caminho, \"r\") as arq:\n",
    "            for i in range(total):\n",
    "                l = arq.readline()\n",
    "                if not l:\n",
    "                    break\n",
    "                yield l.translate(str.maketrans('', '', ',;.!?:\\n')).split(\" \")"
   ]
  },
  {
   "cell_type": "code",
   "execution_count": 2,
   "id": "726bced8",
   "metadata": {},
   "outputs": [],
   "source": [
    "gerador = Gera_linha(\"Lab 5.txt\")"
   ]
  },
  {
   "cell_type": "code",
   "execution_count": 3,
   "id": "40147b78",
   "metadata": {},
   "outputs": [
    {
     "data": {
      "text/plain": [
       "'It\\'s Elementary: Talking About Gay Issues in School is a 1996 American documentary film directed by Debra Chasnoff and Helen Cohen.\\nIt provides educators with information on how to teach elementary school children to be tolerant of gay and lesbian people.\\nThe film was noted as the \"first of its kind\" and was generally well received, although there was some backlash from conservatives.\\nIt was released in several film festivals and had screenings in the 2000s.\\nIt\\'s Elementary did not receive much support from PBS due to backlash from the American Family Association.\\nPrior to airing the film, television stations received calls, letters, and e-mails from people who did not want PBS program directors to broadcast it.\\nThe film was awarded the GLAAD Media Award for Outstanding Documentary, Best Documentary at the Reeling Film Festival, and the Silver Spire at the San Francisco International Film Festival, among other awards.\\nThe film had two sequels: That\\'s A Family! and It\\'s Still Elementary.'"
      ]
     },
     "execution_count": 3,
     "metadata": {},
     "output_type": "execute_result"
    }
   ],
   "source": [
    "gerador.todo()"
   ]
  },
  {
   "cell_type": "code",
   "execution_count": 4,
   "id": "f17e1096",
   "metadata": {},
   "outputs": [
    {
     "name": "stdout",
     "output_type": "stream",
     "text": [
      "[\"It's\", 'Elementary', 'Talking', 'About', 'Gay', 'Issues', 'in', 'School', 'is', 'a', '1996', 'American', 'documentary', 'film', 'directed', 'by', 'Debra', 'Chasnoff', 'and', 'Helen', 'Cohen']\n",
      "['It', 'provides', 'educators', 'with', 'information', 'on', 'how', 'to', 'teach', 'elementary', 'school', 'children', 'to', 'be', 'tolerant', 'of', 'gay', 'and', 'lesbian', 'people']\n"
     ]
    }
   ],
   "source": [
    "for i in gerador.linha(2):\n",
    "    print(i)"
   ]
  },
  {
   "cell_type": "markdown",
   "id": "d89fccac",
   "metadata": {},
   "source": [
    "**2.** Crie uma função geradora de números aleatórios normalmente distribuídos, com média e desvio padrão sorteados aleatoriamente de uma distribuição uniforme com limites 0.0 e 1.0. A função deve receber como argumento a semente a ser usada pelo gerador de números aleatórios do Python (*seed*)."
   ]
  },
  {
   "cell_type": "code",
   "execution_count": 5,
   "id": "d4ffe1f8",
   "metadata": {},
   "outputs": [],
   "source": [
    "import random\n",
    "\n",
    "def gera_norm(semente, total):\n",
    "    random.seed(semente)\n",
    "    return [random.normalvariate(mu = random.random(), sigma = random.random()) for i in range(total)]"
   ]
  },
  {
   "cell_type": "code",
   "execution_count": 6,
   "id": "fcdca741",
   "metadata": {},
   "outputs": [
    {
     "data": {
      "text/plain": [
       "[0.03681505995227116,\n",
       " 0.90474716838315,\n",
       " 0.7851593072130774,\n",
       " 0.24496318954234897]"
      ]
     },
     "execution_count": 6,
     "metadata": {},
     "output_type": "execute_result"
    }
   ],
   "source": [
    "gera_norm(123, 4)"
   ]
  },
  {
   "cell_type": "markdown",
   "id": "59f126c0",
   "metadata": {},
   "source": [
    "**3.** Use um gerador para contar quantas flores do tipo Virginica, Setosa e Versicolor o dataset iris (https://archive.ics.uci.edu/ml/machine-learning-databases/iris/iris.data) contém. A ideia é não precisar ler todo o arquivo de uma vez para fazer as contagens."
   ]
  },
  {
   "cell_type": "code",
   "execution_count": 7,
   "id": "c645726b",
   "metadata": {},
   "outputs": [
    {
     "data": {
      "text/plain": [
       "('iris.data', <http.client.HTTPMessage at 0x21fb7adf700>)"
      ]
     },
     "execution_count": 7,
     "metadata": {},
     "output_type": "execute_result"
    }
   ],
   "source": [
    "import urllib.request\n",
    "\n",
    "url = \"https://archive.ics.uci.edu/ml/machine-learning-databases/iris/iris.data\"\n",
    "filename = \"iris.data\"\n",
    "\n",
    "urllib.request.urlretrieve(url, filename)"
   ]
  },
  {
   "cell_type": "code",
   "execution_count": 8,
   "id": "8caa2125",
   "metadata": {},
   "outputs": [
    {
     "name": "stdout",
     "output_type": "stream",
     "text": [
      "['5.1,3.5,1.4,0.2,Iris-setosa', '4.9,3.0,1.4,0.2,Iris-setosa', '4.7,3.2,1.3,0.2,Iris-setosa']\n"
     ]
    }
   ],
   "source": [
    "with open(\"iris.data\", \"r\") as arq:\n",
    "    print([arq.readline().replace(\"\\n\", \"\") for i in range(3)])"
   ]
  },
  {
   "cell_type": "code",
   "execution_count": 9,
   "id": "5e90ba08",
   "metadata": {},
   "outputs": [],
   "source": [
    "def flor(arquivo):\n",
    "    with open(arquivo, \"r\") as arq:\n",
    "        while True:\n",
    "            try:\n",
    "                yield next(arq).split(\",\")[-1].replace(\"\\n\", \"\")\n",
    "            except:\n",
    "                break"
   ]
  },
  {
   "cell_type": "code",
   "execution_count": 10,
   "id": "a9f16b7a",
   "metadata": {},
   "outputs": [
    {
     "name": "stdout",
     "output_type": "stream",
     "text": [
      "Setosa: 50\n",
      "Virginica: 50\n",
      "Versicolor: 51\n"
     ]
    }
   ],
   "source": [
    "setosa = 0\n",
    "virginica = 0\n",
    "versicolor = 0\n",
    " \n",
    "for espécie in flor(\"iris.data\"):\n",
    "    if espécie == \"Iris-setosa\":\n",
    "        setosa += 1\n",
    "    elif espécie == \"Iris-virginica\":\n",
    "        virginica += 1\n",
    "    else:\n",
    "        versicolor += 1\n",
    "        \n",
    "print(f\"Setosa: {setosa}\\nVirginica: {virginica}\\nVersicolor: {versicolor}\")  "
   ]
  }
 ],
 "metadata": {
  "kernelspec": {
   "display_name": "Python 3 (ipykernel)",
   "language": "python",
   "name": "python3"
  },
  "language_info": {
   "codemirror_mode": {
    "name": "ipython",
    "version": 3
   },
   "file_extension": ".py",
   "mimetype": "text/x-python",
   "name": "python",
   "nbconvert_exporter": "python",
   "pygments_lexer": "ipython3",
   "version": "3.8.8"
  },
  "toc": {
   "base_numbering": 1,
   "nav_menu": {},
   "number_sections": true,
   "sideBar": true,
   "skip_h1_title": false,
   "title_cell": "Table of Contents",
   "title_sidebar": "Contents",
   "toc_cell": false,
   "toc_position": {},
   "toc_section_display": true,
   "toc_window_display": false
  },
  "varInspector": {
   "cols": {
    "lenName": 16,
    "lenType": 16,
    "lenVar": 40
   },
   "kernels_config": {
    "python": {
     "delete_cmd_postfix": "",
     "delete_cmd_prefix": "del ",
     "library": "var_list.py",
     "varRefreshCmd": "print(var_dic_list())"
    },
    "r": {
     "delete_cmd_postfix": ") ",
     "delete_cmd_prefix": "rm(",
     "library": "var_list.r",
     "varRefreshCmd": "cat(var_dic_list()) "
    }
   },
   "types_to_exclude": [
    "module",
    "function",
    "builtin_function_or_method",
    "instance",
    "_Feature"
   ],
   "window_display": false
  }
 },
 "nbformat": 4,
 "nbformat_minor": 5
}
