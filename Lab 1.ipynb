{
 "cells": [
  {
   "cell_type": "markdown",
   "id": "6aa6e35b",
   "metadata": {},
   "source": [
    "<strong><font size = \"4\" color = \"black\">Introdução à Ciência de Dados</font></strong><br>\n",
    "<font size = \"3\" color = \"gray\">Prof. Valter Moreno</font><br>\n",
    "<font size = \"3\" color = \"gray\">2022</font><br>  "
   ]
  },
  {
   "cell_type": "markdown",
   "id": "af6e9bdd",
   "metadata": {},
   "source": [
    "<hr style=\"border:0.1px solid gray\"> </hr>\n",
    "<font size = \"5\" color = \"black\">Introdução ao Python</font><p>\n",
    "<font size = \"5\" color = \"black\">Laboratório 1: Operações com estruturas de dados</font>\n",
    "<hr style=\"border:0.1px solid gray\"> </hr>"
   ]
  },
  {
   "cell_type": "markdown",
   "id": "54d8660b",
   "metadata": {},
   "source": [
    "1.  Crie uma lista com a sequência de números pares de 0 a 50 usando as funções `arange` e `tolist` do pacote **numpy**."
   ]
  },
  {
   "cell_type": "code",
   "execution_count": 4,
   "id": "2cb46ecc",
   "metadata": {},
   "outputs": [],
   "source": [
    "import numpy as np"
   ]
  },
  {
   "cell_type": "markdown",
   "id": "bc802c00",
   "metadata": {},
   "source": [
    "2. Use o módulo **numpy** para criar uma tupla com 10 números aleatórios uniformemente distribuídos entre 1 e 5."
   ]
  },
  {
   "cell_type": "markdown",
   "id": "039b8bf3",
   "metadata": {},
   "source": [
    "3. Calule a soma, a média, e o desvio padrão para a lista e a tupla criadas acima. Armazene todos os resultados num dicionário."
   ]
  },
  {
   "cell_type": "markdown",
   "id": "fe3dd7f5",
   "metadata": {},
   "source": [
    "4. Crie um *set* com os nomes das capitais do Brasil, um *set* com os nomes das capitais dos estados do Sudeste, e um *set* com os nomes das capitais dos estados do Sul."
   ]
  },
  {
   "cell_type": "markdown",
   "id": "6da1000f",
   "metadata": {},
   "source": [
    "5. Use os métodos `difference_update`, `intersection_update` e/ou `symmetric_difference_update` para deletar as capitais da região Sul do conjunto das capitais brasileiras."
   ]
  },
  {
   "cell_type": "markdown",
   "id": "8eb56429",
   "metadata": {},
   "source": [
    "6. Crie um conjunto que inclua as capitais das regiões Sul e Sudeste."
   ]
  },
  {
   "cell_type": "markdown",
   "id": "7d6d9a5e",
   "metadata": {},
   "source": [
    "7. Crie um dicionário que tenha como chaves os nomes das regiões do Brasil. Para cada chave, o valor correspondente deve ser uma lista composta por duas tuplas: uma com os nomes dos estados da região, e outra com o nome das capitais desses estados."
   ]
  },
  {
   "cell_type": "markdown",
   "id": "3fa0eb48",
   "metadata": {},
   "source": [
    "8. No dicionário acima, escreva uma expressão que coloque a cadeia de caracteres da cidade \"Rio de Janeiro\" em letras maiúsculas."
   ]
  },
  {
   "cell_type": "markdown",
   "id": "4b162e40",
   "metadata": {},
   "source": [
    "9. Crie uma lista com as três primeiras capitais da região Norte. "
   ]
  },
  {
   "cell_type": "markdown",
   "id": "86c43602",
   "metadata": {},
   "source": [
    "10. Remova os dados do estado de São Paulo do seu dicionário."
   ]
  },
  {
   "cell_type": "markdown",
   "id": "c1bd5699",
   "metadata": {},
   "source": [
    "11. Adicione a chave \"PIB\" ao dicionário. O valor correspondente deve ser uma lista com o PIB do Brasil nos últimos três anos."
   ]
  },
  {
   "cell_type": "markdown",
   "id": "8b5ccc90",
   "metadata": {},
   "source": [
    "12. Use um *list comprehension* para gerar uma lista de tuplas compostas por números pares entre 0 e 100 e seus quadrados, desde que esses quadrados sejam divisíveis por 5."
   ]
  }
 ],
 "metadata": {
  "kernelspec": {
   "display_name": "Python 3 (ipykernel)",
   "language": "python",
   "name": "python3"
  },
  "language_info": {
   "codemirror_mode": {
    "name": "ipython",
    "version": 3
   },
   "file_extension": ".py",
   "mimetype": "text/x-python",
   "name": "python",
   "nbconvert_exporter": "python",
   "pygments_lexer": "ipython3",
   "version": "3.8.8"
  },
  "toc": {
   "base_numbering": 1,
   "nav_menu": {},
   "number_sections": true,
   "sideBar": true,
   "skip_h1_title": false,
   "title_cell": "Table of Contents",
   "title_sidebar": "Contents",
   "toc_cell": false,
   "toc_position": {},
   "toc_section_display": true,
   "toc_window_display": false
  },
  "varInspector": {
   "cols": {
    "lenName": 16,
    "lenType": 16,
    "lenVar": 40
   },
   "kernels_config": {
    "python": {
     "delete_cmd_postfix": "",
     "delete_cmd_prefix": "del ",
     "library": "var_list.py",
     "varRefreshCmd": "print(var_dic_list())"
    },
    "r": {
     "delete_cmd_postfix": ") ",
     "delete_cmd_prefix": "rm(",
     "library": "var_list.r",
     "varRefreshCmd": "cat(var_dic_list()) "
    }
   },
   "types_to_exclude": [
    "module",
    "function",
    "builtin_function_or_method",
    "instance",
    "_Feature"
   ],
   "window_display": false
  }
 },
 "nbformat": 4,
 "nbformat_minor": 5
}
