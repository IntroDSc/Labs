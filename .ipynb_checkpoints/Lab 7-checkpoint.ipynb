{
 "cells": [
  {
   "cell_type": "markdown",
   "id": "b7c12b30",
   "metadata": {},
   "source": [
    "<strong><font size = \"4\" color = \"black\">Introdução à Ciência de Dados</font></strong><br>\n",
    "<font size = \"3\" color = \"gray\">Prof. Valter Moreno</font><br>\n",
    "<font size = \"3\" color = \"gray\">2022</font><br>  "
   ]
  },
  {
   "cell_type": "markdown",
   "id": "63096780",
   "metadata": {},
   "source": [
    "<hr style=\"border:0.1px solid gray\"> </hr>\n",
    "<font size = \"5\">Introdução ao Python</font>\n",
    "<p><font size = \"5\">Laboratório 7: Pandas - parte 1</font></p>\n",
    "<hr style=\"border:0.1px solid gray\"> </hr>"
   ]
  },
  {
   "cell_type": "markdown",
   "id": "94d5cf2f",
   "metadata": {},
   "source": [
    "Nosso objetivo é aprender como tratar váriáveis que são cadeias de caracteres em um *DataFrame*. Em muitos casos, essas variáveis representam categorias (ou grupos) a que a entidade de interesse (pessoa, carro, empresa, etc.) pertencem."
   ]
  },
  {
   "cell_type": "markdown",
   "id": "9763d9a0",
   "metadata": {},
   "source": [
    "Quando necessário, você pode consultar os seguintes sites e seções da documentação do `pandas`:\n",
    "\n",
    " - [Working with text data](https://pandas.pydata.org/docs/user_guide/text.html)\n",
    " - [Categorical data](https://pandas.pydata.org/docs/user_guide/categorical.html)\n",
    " - [Regex Tutorial - A Cheatsheet with Examples!](https://regextutorial.org/)\n",
    " - [Tutorial: Python Regex (Regular Expressions) for Data Scientists](https://www.dataquest.io/blog/regular-expressions-data-scientists/) "
   ]
  },
  {
   "cell_type": "markdown",
   "id": "dcad4ba0",
   "metadata": {},
   "source": [
    "A base de dados com que vamos trabalhar é a de passageiros do Titanic. Ela está disponível na seguinte página: (https://gist.githubusercontent.com/fyyying/4aa5b471860321d7b47fd881898162b7/raw/6907bb3a38bfbb6fccf3a8b1edfb90e39714d14f/titanic_dataset.csv)\n"
   ]
  },
  {
   "cell_type": "markdown",
   "id": "9b0cc8f4",
   "metadata": {},
   "source": [
    "**1.** Leia a base de dados para um *DataFrame*. "
   ]
  },
  {
   "cell_type": "markdown",
   "id": "83f268a4",
   "metadata": {},
   "source": [
    "**2.** Gere as informações básicas sobre o *DataFrame* criado. Por exemplo, quantas linhas e colunas ele tem? Que tipos de variáveis estão contidas nas colunas? Há dados faltando? Em que colunas? Quantos? "
   ]
  },
  {
   "cell_type": "markdown",
   "id": "2f001a98",
   "metadata": {},
   "source": [
    "**3.** Traduza o nome das colunas para o português."
   ]
  },
  {
   "cell_type": "markdown",
   "id": "b00218a7",
   "metadata": {},
   "source": [
    "**4**. Crie colunas que correspondam ao primeiro nome da pessoa e a seus sobrenomes. Note que há pessoas listadas como esposas de um outro passageiro. As novas colunas devem conter os nomes das esposas."
   ]
  },
  {
   "cell_type": "markdown",
   "id": "b539e14e",
   "metadata": {},
   "source": [
    "**5.** Transforme *Sexo* (*Sex*), *Local de Embarque* (*Embarked*) e *Classe* (*Pclass*) em variáveis categóricas, identificando por extenso as categorias correspondentes."
   ]
  },
  {
   "cell_type": "markdown",
   "id": "dd3b12a3",
   "metadata": {},
   "source": [
    "**6.** Calcule as estatísticas descritivas básicas para todas as variáveis numéricas do *DataFrame*."
   ]
  },
  {
   "cell_type": "markdown",
   "id": "67800820",
   "metadata": {},
   "source": [
    "**7.** Grave o *DataFrame* final em um arquivo CSV."
   ]
  }
 ],
 "metadata": {
  "kernelspec": {
   "display_name": "Python 3 (ipykernel)",
   "language": "python",
   "name": "python3"
  },
  "language_info": {
   "codemirror_mode": {
    "name": "ipython",
    "version": 3
   },
   "file_extension": ".py",
   "mimetype": "text/x-python",
   "name": "python",
   "nbconvert_exporter": "python",
   "pygments_lexer": "ipython3",
   "version": "3.8.8"
  },
  "toc": {
   "base_numbering": 1,
   "nav_menu": {},
   "number_sections": true,
   "sideBar": true,
   "skip_h1_title": false,
   "title_cell": "Table of Contents",
   "title_sidebar": "Contents",
   "toc_cell": false,
   "toc_position": {},
   "toc_section_display": true,
   "toc_window_display": false
  },
  "varInspector": {
   "cols": {
    "lenName": 16,
    "lenType": 16,
    "lenVar": 40
   },
   "kernels_config": {
    "python": {
     "delete_cmd_postfix": "",
     "delete_cmd_prefix": "del ",
     "library": "var_list.py",
     "varRefreshCmd": "print(var_dic_list())"
    },
    "r": {
     "delete_cmd_postfix": ") ",
     "delete_cmd_prefix": "rm(",
     "library": "var_list.r",
     "varRefreshCmd": "cat(var_dic_list()) "
    }
   },
   "types_to_exclude": [
    "module",
    "function",
    "builtin_function_or_method",
    "instance",
    "_Feature"
   ],
   "window_display": false
  }
 },
 "nbformat": 4,
 "nbformat_minor": 5
}
