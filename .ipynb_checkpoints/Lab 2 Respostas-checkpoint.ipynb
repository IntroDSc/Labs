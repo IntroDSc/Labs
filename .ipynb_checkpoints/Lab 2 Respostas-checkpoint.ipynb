{
 "cells": [
  {
   "cell_type": "markdown",
   "id": "b7c12b30",
   "metadata": {},
   "source": [
    "<strong><font size = \"4\" color = \"black\">Introdução à Ciência de Dados</font></strong><br>\n",
    "<font size = \"3\" color = \"gray\">Prof. Valter Moreno</font><br>\n",
    "<font size = \"3\" color = \"gray\">2022</font><br>  "
   ]
  },
  {
   "cell_type": "markdown",
   "id": "63096780",
   "metadata": {},
   "source": [
    "<hr style=\"border:0.1px solid gray\"> </hr>\n",
    "<font size = \"5\" color = \"black\">Introdução ao Python</font><p>\n",
    "<font size = \"5\" color = \"black\">Laboratório 2: Controle de Fluxo, Funções e Exceções</font>\n",
    "<hr style=\"border:0.1px solid gray\"> </hr>"
   ]
  },
  {
   "cell_type": "markdown",
   "id": "a734b750",
   "metadata": {},
   "source": [
    "**1.** Crie uma função que receba um número indeterminado de valores inteiros e retorne a sua média, o seu desvio padrão, o seu máximo, e o seu mínimo."
   ]
  },
  {
   "cell_type": "code",
   "execution_count": 1,
   "id": "e389a827",
   "metadata": {
    "scrolled": true
   },
   "outputs": [],
   "source": [
    "import numpy as np\n",
    "\n",
    "def descritivas(x, *args):\n",
    "    lista = [x]\n",
    "    for valor in args:\n",
    "        lista.append(valor)\n",
    "    try:\n",
    "        return np.mean(lista), np.std(lista), np.max(lista), np.min(lista)\n",
    "    except:\n",
    "        print(\"**Erro: A função recebe apenas números reais.\")"
   ]
  },
  {
   "cell_type": "code",
   "execution_count": 2,
   "id": "0754182f",
   "metadata": {},
   "outputs": [
    {
     "name": "stdout",
     "output_type": "stream",
     "text": [
      "**Erro: A função recebe apenas números reais.\n"
     ]
    }
   ],
   "source": [
    "descritivas(\"a\", 23)"
   ]
  },
  {
   "cell_type": "code",
   "execution_count": 3,
   "id": "15827fc0",
   "metadata": {},
   "outputs": [
    {
     "name": "stdout",
     "output_type": "stream",
     "text": [
      "109 µs ± 14.7 µs per loop (mean ± std. dev. of 30 runs, 1000 loops each)\n"
     ]
    }
   ],
   "source": [
    "%timeit -r 30 -n 1000 descritivas(1, 2, 3, 4)"
   ]
  },
  {
   "cell_type": "code",
   "execution_count": 4,
   "id": "d6cd3e81",
   "metadata": {},
   "outputs": [
    {
     "name": "stdout",
     "output_type": "stream",
     "text": [
      "Média = 2.50\n",
      "Desvio Padrão = 1.12\n",
      "Máximo = 4\n",
      "Mínimo = 1\n"
     ]
    }
   ],
   "source": [
    "média, desvio, máximo, mínimo = descritivas(1, 2, 3, 4)\n",
    "print(f\"Média = {média:.2f}\\nDesvio Padrão = {desvio:.2f}\\nMáximo = {máximo}\\nMínimo = {mínimo}\")"
   ]
  },
  {
   "cell_type": "code",
   "execution_count": 5,
   "id": "6c6db2bf",
   "metadata": {},
   "outputs": [
    {
     "name": "stdout",
     "output_type": "stream",
     "text": [
      "Média = 3.50\n",
      "Desvio Padrão = 1.71\n",
      "Máximo = 6\n",
      "Mínimo = 1\n"
     ]
    }
   ],
   "source": [
    "média, desvio, máximo, mínimo = descritivas(1, 2, 3, 4, 5, 6)\n",
    "print(f\"Média = {média:.2f}\\nDesvio Padrão = {desvio:.2f}\\nMáximo = {máximo}\\nMínimo = {mínimo}\")"
   ]
  },
  {
   "cell_type": "markdown",
   "id": "d89fccac",
   "metadata": {},
   "source": [
    "**2.** Crie uma função que receba dois números inteiros, N e k, e retorne a combinação de N k a k."
   ]
  },
  {
   "cell_type": "code",
   "execution_count": 6,
   "id": "df86e957",
   "metadata": {},
   "outputs": [],
   "source": [
    "from math import factorial\n",
    "\n",
    "def combinação(N, k):\n",
    "    try:\n",
    "        comb = factorial(N) / (factorial(N-k) * factorial(k))\n",
    "        return int(comb)\n",
    "    except:\n",
    "        print(\"**Erro: N e k devem ser inteiros positivos, com N >= k.\")"
   ]
  },
  {
   "cell_type": "code",
   "execution_count": 7,
   "id": "da44a5e7",
   "metadata": {},
   "outputs": [
    {
     "name": "stdout",
     "output_type": "stream",
     "text": [
      "**Erro: N e k devem ser inteiros positivos, com N >= k.\n"
     ]
    }
   ],
   "source": [
    "combinação(2, 4)"
   ]
  },
  {
   "cell_type": "code",
   "execution_count": 8,
   "id": "f72d5984",
   "metadata": {
    "scrolled": true
   },
   "outputs": [
    {
     "name": "stdout",
     "output_type": "stream",
     "text": [
      "5.84 µs ± 187 ns per loop (mean ± std. dev. of 7 runs, 100000 loops each)\n"
     ]
    }
   ],
   "source": [
    "%timeit combinação(100, 20)"
   ]
  },
  {
   "cell_type": "code",
   "execution_count": 9,
   "id": "d76f7326",
   "metadata": {},
   "outputs": [
    {
     "data": {
      "text/plain": [
       "10"
      ]
     },
     "execution_count": 9,
     "metadata": {},
     "output_type": "execute_result"
    }
   ],
   "source": [
    "combinação(5, 2)"
   ]
  },
  {
   "cell_type": "markdown",
   "id": "59f126c0",
   "metadata": {},
   "source": [
    "**3.** Crie uma função que receba duas matrizes e retorne o seu produto. Assuma que as matrizes são dadas como listas de listas que representam suas linhas."
   ]
  },
  {
   "cell_type": "code",
   "execution_count": 10,
   "id": "3e4781d1",
   "metadata": {},
   "outputs": [],
   "source": [
    "def mult_matrizes(matriz1, matriz2):\n",
    "    try:\n",
    "        linhas = len(matriz1)\n",
    "        colunas = len(matriz2[0])\n",
    "        matriz = list()\n",
    "        for i in range(linhas):\n",
    "            linha = list()\n",
    "            for j in range(colunas):\n",
    "                mult = 0\n",
    "                for k, valor in enumerate(matriz1[i]):\n",
    "                    mult += valor * matriz2[k][j]\n",
    "                linha.append(mult)\n",
    "            matriz.append(linha)\n",
    "        return matriz\n",
    "    except:\n",
    "        print(\"**Erro: A função deve receber matrizes de números reais com dimensões compatíveis.\")"
   ]
  },
  {
   "cell_type": "code",
   "execution_count": 11,
   "id": "a721be54",
   "metadata": {},
   "outputs": [
    {
     "name": "stdout",
     "output_type": "stream",
     "text": [
      "**Erro: A função deve receber matrizes de números reais com dimensões compatíveis.\n"
     ]
    }
   ],
   "source": [
    "matriz1 = [[1], [\"Valter\", 0]]\n",
    "matriz2 = [[2, 1, 0], [4, 2, 0]]\n",
    "\n",
    "mult_matrizes(matriz1, matriz2)"
   ]
  },
  {
   "cell_type": "code",
   "execution_count": 12,
   "id": "f5d3c533",
   "metadata": {},
   "outputs": [
    {
     "name": "stdout",
     "output_type": "stream",
     "text": [
      "14.7 µs ± 620 ns per loop (mean ± std. dev. of 7 runs, 100000 loops each)\n",
      "\n",
      "Resultado:\n"
     ]
    },
    {
     "data": {
      "text/plain": [
       "[[2, 1, 0], [4, 2, 0], [6, 3, 0]]"
      ]
     },
     "execution_count": 12,
     "metadata": {},
     "output_type": "execute_result"
    }
   ],
   "source": [
    "matriz1 = [[1, 0, 0], [0, 1, 0], [0, 0, 1]]\n",
    "matriz2 = [[2, 1, 0], [4, 2, 0], [6, 3, 0]]\n",
    "\n",
    "%timeit mult_matrizes(matriz1, matriz2)\n",
    "\n",
    "print(\"\\nResultado:\")\n",
    "mult_matrizes(matriz1, matriz2)"
   ]
  },
  {
   "cell_type": "markdown",
   "id": "ed0f22dc",
   "metadata": {},
   "source": [
    "**4.** [Project Euler: problem 3:](https://projecteuler.net/problem=3) Os fatores primos de 13195 são 5, 7, 13 e 29. Crie uma função que determine o maior fator primo de um número natural n. Use a função para identificar o maior fator primo do número 600851475143."
   ]
  },
  {
   "cell_type": "code",
   "execution_count": 13,
   "id": "be1a32c2",
   "metadata": {},
   "outputs": [],
   "source": [
    "def primo(x):\n",
    "    i = 2\n",
    "    try:\n",
    "        while i < x:\n",
    "            if x % i == 0:\n",
    "                return False\n",
    "            else:\n",
    "                i += 1\n",
    "        return True\n",
    "    except:\n",
    "        print(\"**Erro: A função deve receber um inteiro positivo.\")\n",
    "    \n",
    "def max_primo(n):\n",
    "    fator = 2\n",
    "    fatores = list()\n",
    "    dividendo = n\n",
    "    try:\n",
    "        while fator < n:\n",
    "            if dividendo % fator == 0:\n",
    "                if primo(fator):\n",
    "                    fatores.append(fator)\n",
    "                    while dividendo % fator == 0:\n",
    "                        dividendo = int(dividendo / fator)\n",
    "            fator += 1\n",
    "        return fatores, max(fatores)\n",
    "    except:\n",
    "        print(\"**Erro: A função deve receber um número inteiro.\")"
   ]
  },
  {
   "cell_type": "code",
   "execution_count": 14,
   "id": "b21cec8e",
   "metadata": {},
   "outputs": [
    {
     "name": "stdout",
     "output_type": "stream",
     "text": [
      "**Erro: A função deve receber um número inteiro.\n"
     ]
    }
   ],
   "source": [
    "max_primo(5.5)"
   ]
  },
  {
   "cell_type": "code",
   "execution_count": 15,
   "id": "89de3d92",
   "metadata": {
    "scrolled": false
   },
   "outputs": [
    {
     "name": "stdout",
     "output_type": "stream",
     "text": [
      "3.57 ms ± 445 µs per loop (mean ± std. dev. of 30 runs, 100 loops each)\n"
     ]
    }
   ],
   "source": [
    "%timeit -r 30 -n 100 max_primo(13195)"
   ]
  },
  {
   "cell_type": "code",
   "execution_count": 16,
   "id": "8498b058",
   "metadata": {},
   "outputs": [],
   "source": [
    "# Uma solução bem melhor:\n",
    "# https://code.mikeyaworski.com/python/project_euler/problem_3\n",
    "\n",
    "def max_prime_factor(n):\n",
    "  primeFactor = 1\n",
    "  i = 2\n",
    "  while i <= n / i:  # Essa comparação faz toda a diferença! Por quê?\n",
    "    if n % i == 0:\n",
    "      primeFactor = i\n",
    "      n /= i\n",
    "    else:\n",
    "      i += 1\n",
    "  if primeFactor < n: primeFactor = int(n)\n",
    "  return primeFactor"
   ]
  },
  {
   "cell_type": "code",
   "execution_count": 17,
   "id": "c177f3cf",
   "metadata": {
    "scrolled": false
   },
   "outputs": [
    {
     "name": "stdout",
     "output_type": "stream",
     "text": [
      "10.8 µs ± 3.48 µs per loop (mean ± std. dev. of 30 runs, 100 loops each)\n"
     ]
    }
   ],
   "source": [
    "%timeit -r 30 -n 100 max_prime_factor(13195)"
   ]
  },
  {
   "cell_type": "code",
   "execution_count": 19,
   "id": "b7c2ba02",
   "metadata": {
    "scrolled": true
   },
   "outputs": [],
   "source": [
    "# A execução para um número tão grande usando a primeira solução é muito demorada!\n",
    "# fats, max_fats = max_primo(600851475143)\n",
    "# print(f\"Os fatores primos são {' '.join(str(f) for f in fats)}, e o maior deles é {max_fats}.\")"
   ]
  },
  {
   "cell_type": "code",
   "execution_count": 20,
   "id": "8ddfe6ac",
   "metadata": {},
   "outputs": [
    {
     "data": {
      "text/plain": [
       "6857"
      ]
     },
     "execution_count": 20,
     "metadata": {},
     "output_type": "execute_result"
    }
   ],
   "source": [
    "# Veja a diferença com o algoritmo melhor!\n",
    "max_prime_factor(600851475143)"
   ]
  },
  {
   "cell_type": "markdown",
   "id": "452821aa",
   "metadata": {},
   "source": [
    "<font color=\"red\"><strong><u>Atenção</u>:</strong></font> \n",
    "\n",
    " 1. Trate potenciais exceções (erros) em todas as suas funções.\n",
    " 2. Use o comando mágico `%%time` do Jupyter Notebook para medir quanto tempo suas soluções demoram para rodar (outra alternativa é o comando mágico `%%timeit`). Outros comandos mágicos úteis são descritos na página [Top 8 magic commands in Jupyter Notebook](https://towardsdatascience.com/top-8-magic-commands-in-jupyter-notebook-c1582e813560)"
   ]
  },
  {
   "cell_type": "code",
   "execution_count": 21,
   "id": "0ef3ac98",
   "metadata": {},
   "outputs": [
    {
     "name": "stdout",
     "output_type": "stream",
     "text": [
      "Wall time: 8.98 ms\n"
     ]
    }
   ],
   "source": [
    "%%time\n",
    "for i in range(int(1E5)):\n",
    "    pass"
   ]
  },
  {
   "cell_type": "code",
   "execution_count": 22,
   "id": "2d58c767",
   "metadata": {},
   "outputs": [
    {
     "name": "stdout",
     "output_type": "stream",
     "text": [
      "4.53 ms ± 331 µs per loop (mean ± std. dev. of 7 runs, 100 loops each)\n"
     ]
    }
   ],
   "source": [
    "%%timeit\n",
    "for i in range(int(1E5)):\n",
    "    pass"
   ]
  }
 ],
 "metadata": {
  "kernelspec": {
   "display_name": "Python 3 (ipykernel)",
   "language": "python",
   "name": "python3"
  },
  "language_info": {
   "codemirror_mode": {
    "name": "ipython",
    "version": 3
   },
   "file_extension": ".py",
   "mimetype": "text/x-python",
   "name": "python",
   "nbconvert_exporter": "python",
   "pygments_lexer": "ipython3",
   "version": "3.8.8"
  },
  "toc": {
   "base_numbering": 1,
   "nav_menu": {},
   "number_sections": true,
   "sideBar": true,
   "skip_h1_title": false,
   "title_cell": "Table of Contents",
   "title_sidebar": "Contents",
   "toc_cell": false,
   "toc_position": {},
   "toc_section_display": true,
   "toc_window_display": false
  },
  "varInspector": {
   "cols": {
    "lenName": 16,
    "lenType": 16,
    "lenVar": 40
   },
   "kernels_config": {
    "python": {
     "delete_cmd_postfix": "",
     "delete_cmd_prefix": "del ",
     "library": "var_list.py",
     "varRefreshCmd": "print(var_dic_list())"
    },
    "r": {
     "delete_cmd_postfix": ") ",
     "delete_cmd_prefix": "rm(",
     "library": "var_list.r",
     "varRefreshCmd": "cat(var_dic_list()) "
    }
   },
   "types_to_exclude": [
    "module",
    "function",
    "builtin_function_or_method",
    "instance",
    "_Feature"
   ],
   "window_display": false
  }
 },
 "nbformat": 4,
 "nbformat_minor": 5
}
