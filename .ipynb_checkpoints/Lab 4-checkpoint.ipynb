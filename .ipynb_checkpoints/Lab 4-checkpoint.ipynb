{
 "cells": [
  {
   "cell_type": "markdown",
   "id": "6aa6e35b",
   "metadata": {},
   "source": [
    "<strong><font size = \"4\" color = \"black\">Introdução à Ciência de Dados</font></strong><br>\n",
    "<font size = \"3\" color = \"gray\">Prof. Valter Moreno</font><br>\n",
    "<font size = \"3\" color = \"gray\">2022</font><br>  "
   ]
  },
  {
   "cell_type": "markdown",
   "id": "af6e9bdd",
   "metadata": {},
   "source": [
    "<hr style=\"border:0.1px solid gray\"> </hr>\n",
    "<font size = \"5\" color = \"black\">Introdução ao Python</font><p>\n",
    "<font size = \"5\" color = \"black\">Laboratório 4: Leitura e gravação de dados</font>\n",
    "<hr style=\"border:0.1px solid gray\"> </hr>"
   ]
  },
  {
   "cell_type": "markdown",
   "id": "54d8660b",
   "metadata": {},
   "source": [
    "A célula a seguir cria uma lista de endereços de e-mail fictícios."
   ]
  },
  {
   "cell_type": "code",
   "execution_count": 1,
   "id": "2cb46ecc",
   "metadata": {},
   "outputs": [
    {
     "data": {
      "text/plain": [
       "['email271@rio.gov.br',\n",
       " 'email932@gmail.com',\n",
       " 'email526@gmail.com',\n",
       " 'email398@rio.gov.br',\n",
       " 'email215@outlook.com',\n",
       " 'email627@eng.uerj.br',\n",
       " 'email62@rio.gov.br',\n",
       " 'email611@uerj.br',\n",
       " 'email576@gmail.com',\n",
       " 'email251@outlook.com']"
      ]
     },
     "execution_count": 1,
     "metadata": {},
     "output_type": "execute_result"
    }
   ],
   "source": [
    "import random\n",
    "\n",
    "domínios = [\"gmail.com\", \"outlook.com\", \"uerj.br\", \"uol.com.br\", \"eng.uerj.br\", \"rio.gov.br\"]\n",
    "\n",
    "emails = [\"email\" + str(random.randint(1, 1000)) + \"@\" + random.choices(domínios, \n",
    "                                                                        weights = [5, 4, 1, 3, 1, 2], \n",
    "                                                                        k = 1)[0] \n",
    "          for i in range(200)]\n",
    "\n",
    "emails[:10]"
   ]
  },
  {
   "cell_type": "markdown",
   "id": "bc802c00",
   "metadata": {},
   "source": [
    "**1.** Grave a lista gerada no arquivo de texto \"e-mails.txt\"."
   ]
  },
  {
   "cell_type": "markdown",
   "id": "039b8bf3",
   "metadata": {},
   "source": [
    "**2.** Gere mais 100 e-mails aleatórios usando o mesmo processo e os adicione ao arquivo \"e-mails.txt\"."
   ]
  },
  {
   "cell_type": "markdown",
   "id": "523b471a",
   "metadata": {},
   "source": [
    "**3.** Leia um a cada 10 e-mails do arquivo gerado (ex., o primeiro, o décimo primeiro, o vigésimo primeiro, etc.) e grave-os num novo arquivo de texto."
   ]
  },
  {
   "cell_type": "markdown",
   "id": "8076dfde",
   "metadata": {},
   "source": [
    "**4.** Use a função `Counter` do pacote `collections` para calcular quantos e-mails de cada domínio (ex., gmail.com) há no último arquivo \"e-mails.txt\" gravado."
   ]
  },
  {
   "cell_type": "markdown",
   "id": "ce7e851d",
   "metadata": {},
   "source": [
    "**5.** Use o pacote `csv` para ler o arquivo cujo endereço é (https://archive.ics.uci.edu/ml/machine-learning-databases/breast-cancer-wisconsin/breast-cancer-wisconsin.data). Note que os dados são separados por vírgulas, mas o arquivo não contém os nomes de cada coluna. Eles são dados a seguir:\n",
    "\n",
    "   | Nome do atributo            |  Valores  |\n",
    "   |-----------------------------|-----------|\n",
    "   |Sample code number           | código numérico |\n",
    "   |Clump Thickness              | 1 - 10 | \n",
    "   |Uniformity of Cell Size      | 1 - 10 |\n",
    "   |Uniformity of Cell Shape     | 1 - 10 |\n",
    "   |Marginal Adhesion            | 1 - 10 |\n",
    "   |Single Epithelial Cell Size  | 1 - 10 |\n",
    "   |Bare Nuclei                  | 1 - 10 |\n",
    "   |Bland Chromatin              | 1 - 10 |\n",
    "   |Normal Nucleoli              | 1 - 10 |\n",
    "   |Mitoses                      | 1 - 10 |\n",
    "   |Class                        | 2 para benigno, 4 para maligno |\n",
    "   \n",
    "Os dados devem ser guardados num dicionário em que as chaves são os nomes das colunas, e os valores são armazenados em listas."
   ]
  }
 ],
 "metadata": {
  "kernelspec": {
   "display_name": "Python 3 (ipykernel)",
   "language": "python",
   "name": "python3"
  },
  "language_info": {
   "codemirror_mode": {
    "name": "ipython",
    "version": 3
   },
   "file_extension": ".py",
   "mimetype": "text/x-python",
   "name": "python",
   "nbconvert_exporter": "python",
   "pygments_lexer": "ipython3",
   "version": "3.8.8"
  },
  "toc": {
   "base_numbering": 1,
   "nav_menu": {},
   "number_sections": true,
   "sideBar": true,
   "skip_h1_title": false,
   "title_cell": "Table of Contents",
   "title_sidebar": "Contents",
   "toc_cell": false,
   "toc_position": {},
   "toc_section_display": true,
   "toc_window_display": false
  },
  "varInspector": {
   "cols": {
    "lenName": 16,
    "lenType": 16,
    "lenVar": 40
   },
   "kernels_config": {
    "python": {
     "delete_cmd_postfix": "",
     "delete_cmd_prefix": "del ",
     "library": "var_list.py",
     "varRefreshCmd": "print(var_dic_list())"
    },
    "r": {
     "delete_cmd_postfix": ") ",
     "delete_cmd_prefix": "rm(",
     "library": "var_list.r",
     "varRefreshCmd": "cat(var_dic_list()) "
    }
   },
   "types_to_exclude": [
    "module",
    "function",
    "builtin_function_or_method",
    "instance",
    "_Feature"
   ],
   "window_display": false
  }
 },
 "nbformat": 4,
 "nbformat_minor": 5
}
