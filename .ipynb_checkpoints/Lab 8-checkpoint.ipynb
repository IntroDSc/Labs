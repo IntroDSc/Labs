{
 "cells": [
  {
   "cell_type": "markdown",
   "id": "b7c12b30",
   "metadata": {},
   "source": [
    "<strong><font size = \"4\" color = \"black\">Introdução à Ciência de Dados</font></strong><br>\n",
    "<font size = \"3\" color = \"gray\">Prof. Valter Moreno</font><br>\n",
    "<font size = \"3\" color = \"gray\">2022</font><br>  "
   ]
  },
  {
   "cell_type": "markdown",
   "id": "63096780",
   "metadata": {},
   "source": [
    "<hr style=\"border:0.1px solid gray\"> </hr>\n",
    "<font size = \"5\">Introdução ao Python</font>\n",
    "<p><font size = \"5\">Laboratório 8: Pandas - parte 2</font></p>\n",
    "<hr style=\"border:0.1px solid gray\"> </hr>"
   ]
  },
  {
   "cell_type": "markdown",
   "id": "94d5cf2f",
   "metadata": {},
   "source": [
    "Neste laboratório, continuaremos nossa prática de obtenção, limpeza e tratamento de dados. Nosso objetivo é gerar um *DataFrame* com o IDH de todos os países e seus PIBs, conforme listado nas seguintes páginas da Wikipedia:\n",
    "\n",
    " - [Lista de países por Índice de Desenvolvimento Humano](https://pt.wikipedia.org/wiki/Lista_de_pa%C3%ADses_por_%C3%8Dndice_de_Desenvolvimento_Humano)\n",
    " - [Lista de países por PIB nominal](https://pt.wikipedia.org/wiki/Lista_de_pa%C3%ADses_por_PIB_nominal)"
   ]
  },
  {
   "cell_type": "markdown",
   "id": "9763d9a0",
   "metadata": {},
   "source": [
    "O *DataFrame* deverá conter o nome do país, o continente a que pertence, o valor do IDH, e o valor nominal do PIB."
   ]
  },
  {
   "cell_type": "markdown",
   "id": "dcad4ba0",
   "metadata": {},
   "source": [
    "Você deve responder as seguintes perguntas com base no *DataFrame* criado:"
   ]
  },
  {
   "cell_type": "markdown",
   "id": "9b0cc8f4",
   "metadata": {},
   "source": [
    "**1.** Que países têm os 10 maiores e menores valores de IDH e PIB? Parece haver uma relação entre as duas variáveis? "
   ]
  },
  {
   "cell_type": "markdown",
   "id": "83f268a4",
   "metadata": {},
   "source": [
    "**2.** Calcule o IHD e o PIB médios por continente, assim como seus valores mínimos e máximos, e os seu desvios-padrão."
   ]
  },
  {
   "cell_type": "markdown",
   "id": "2f001a98",
   "metadata": {},
   "source": [
    "**3.** Crie uma coluna que indique se o país tem um PIB muito alto, alto, mediano, baixo, ou muito baixo. Para isso, calcule os percentis de 20% da variável PIB e use os limites de cada faixa para agrupar os países em categorias (*binning*). Caso necessário, consulte a página [Binning Data with Pandas qcut and cut](https://pbpython.com/pandas-qcut-cut.html)."
   ]
  },
  {
   "cell_type": "markdown",
   "id": "b00218a7",
   "metadata": {},
   "source": [
    "**4**. Faça o mesmo para a coluna IDH."
   ]
  },
  {
   "cell_type": "markdown",
   "id": "b539e14e",
   "metadata": {},
   "source": [
    "**5.** Calcule que proporção dos países em cada faixa de PIB estão na faixa correspondente de IDH."
   ]
  }
 ],
 "metadata": {
  "kernelspec": {
   "display_name": "Python 3 (ipykernel)",
   "language": "python",
   "name": "python3"
  },
  "language_info": {
   "codemirror_mode": {
    "name": "ipython",
    "version": 3
   },
   "file_extension": ".py",
   "mimetype": "text/x-python",
   "name": "python",
   "nbconvert_exporter": "python",
   "pygments_lexer": "ipython3",
   "version": "3.8.8"
  },
  "toc": {
   "base_numbering": 1,
   "nav_menu": {},
   "number_sections": true,
   "sideBar": true,
   "skip_h1_title": false,
   "title_cell": "Table of Contents",
   "title_sidebar": "Contents",
   "toc_cell": false,
   "toc_position": {},
   "toc_section_display": true,
   "toc_window_display": false
  },
  "varInspector": {
   "cols": {
    "lenName": 16,
    "lenType": 16,
    "lenVar": 40
   },
   "kernels_config": {
    "python": {
     "delete_cmd_postfix": "",
     "delete_cmd_prefix": "del ",
     "library": "var_list.py",
     "varRefreshCmd": "print(var_dic_list())"
    },
    "r": {
     "delete_cmd_postfix": ") ",
     "delete_cmd_prefix": "rm(",
     "library": "var_list.r",
     "varRefreshCmd": "cat(var_dic_list()) "
    }
   },
   "types_to_exclude": [
    "module",
    "function",
    "builtin_function_or_method",
    "instance",
    "_Feature"
   ],
   "window_display": false
  }
 },
 "nbformat": 4,
 "nbformat_minor": 5
}
