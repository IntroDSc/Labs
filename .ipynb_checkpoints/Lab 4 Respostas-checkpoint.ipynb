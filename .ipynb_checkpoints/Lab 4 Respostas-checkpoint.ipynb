{
 "cells": [
  {
   "cell_type": "markdown",
   "id": "6aa6e35b",
   "metadata": {},
   "source": [
    "<strong><font size = \"4\" color = \"black\">Introdução à Ciência de Dados</font></strong><br>\n",
    "<font size = \"3\" color = \"gray\">Prof. Valter Moreno</font><br>\n",
    "<font size = \"3\" color = \"gray\">2022</font><br>  "
   ]
  },
  {
   "cell_type": "markdown",
   "id": "af6e9bdd",
   "metadata": {},
   "source": [
    "<hr style=\"border:0.1px solid gray\"> </hr>\n",
    "<font size = \"5\" color = \"black\">Introdução ao Python</font><p>\n",
    "<font size = \"5\" color = \"black\">Laboratório 4: Leitura e gravação de dados</font>\n",
    "<hr style=\"border:0.1px solid gray\"> </hr>"
   ]
  },
  {
   "cell_type": "markdown",
   "id": "54d8660b",
   "metadata": {},
   "source": [
    "A célula a seguir cria uma lista de endereços de e-mail fictícios."
   ]
  },
  {
   "cell_type": "code",
   "execution_count": 1,
   "id": "2cb46ecc",
   "metadata": {},
   "outputs": [
    {
     "data": {
      "text/plain": [
       "['email91@outlook.com',\n",
       " 'email327@uerj.br',\n",
       " 'email263@gmail.com',\n",
       " 'email334@gmail.com',\n",
       " 'email308@uol.com.br',\n",
       " 'email647@outlook.com',\n",
       " 'email795@uol.com.br',\n",
       " 'email968@uol.com.br',\n",
       " 'email590@gmail.com',\n",
       " 'email575@outlook.com']"
      ]
     },
     "execution_count": 1,
     "metadata": {},
     "output_type": "execute_result"
    }
   ],
   "source": [
    "import random\n",
    "\n",
    "domínios = [\"gmail.com\", \"outlook.com\", \"uerj.br\", \"uol.com.br\", \"eng.uerj.br\", \"rio.gov.br\"]\n",
    "\n",
    "emails = [\"email\" + str(random.randint(1, 1000)) + \"@\" + random.choices(domínios, \n",
    "                                                                        weights = [5, 4, 1, 3, 1, 2], \n",
    "                                                                        k = 1)[0] \n",
    "          for i in range(200)]\n",
    "\n",
    "emails[:10]"
   ]
  },
  {
   "cell_type": "markdown",
   "id": "bc802c00",
   "metadata": {},
   "source": [
    "**1.** Grave a lista gerada no arquivo de texto \"E-mails.txt\"."
   ]
  },
  {
   "cell_type": "code",
   "execution_count": 2,
   "id": "57fb1dab",
   "metadata": {},
   "outputs": [
    {
     "name": "stdout",
     "output_type": "stream",
     "text": [
      "Posição no arquivo após gravação: 4134\n",
      "Primeiros e-mails: ['email91@outlook.com', 'email327@uerj.br', 'email263@gmail.com']\n",
      "Número de e-mails no arquivo: 200\n"
     ]
    }
   ],
   "source": [
    "with open(\"E-mails.txt\", \"w+\") as arq:\n",
    "    for email in emails:\n",
    "        arq.write(email + \"\\n\")\n",
    "    arq.seek(0)\n",
    "    texto = arq.read()\n",
    "    print(\"Posição no arquivo após gravação:\", arq.tell())\n",
    "\n",
    "print(\"Primeiros e-mails:\", texto.split(\"\\n\")[:3])\n",
    "print(\"Número de e-mails no arquivo:\", len(texto.split(\"\\n\"))-1)"
   ]
  },
  {
   "cell_type": "markdown",
   "id": "039b8bf3",
   "metadata": {},
   "source": [
    "**2.** Gere mais 100 e-mails aleatórios usando o mesmo processo e os adicione ao arquivo \"E-mails.txt\"."
   ]
  },
  {
   "cell_type": "code",
   "execution_count": 3,
   "id": "4841477a",
   "metadata": {},
   "outputs": [
    {
     "name": "stdout",
     "output_type": "stream",
     "text": [
      "Posição no arquivo: 4134\n",
      "Posição após gravação: 6217\n",
      "Número de e-mails: 300\n"
     ]
    }
   ],
   "source": [
    "emails_novos = [\"email\" + str(random.randint(1, 1000)) + \"@\" + \n",
    "                random.choices(domínios,\n",
    "                               weights = [5, 4, 1, 3, 1, 2],\n",
    "                               k = 1)[0]\n",
    "                for i in range(100)]\n",
    "\n",
    "with open(\"E-mails.txt\", \"a+\") as arq:\n",
    "    print(\"Posição no arquivo:\", arq.tell())\n",
    "    for email in emails_novos:\n",
    "        arq.write(email + \"\\n\")\n",
    "    print(\"Posição após gravação:\", arq.tell())\n",
    "    arq.seek(0)\n",
    "    texto = arq.read()\n",
    "\n",
    "print(\"Número de e-mails:\", len(texto.split(\"\\n\"))-1)"
   ]
  },
  {
   "cell_type": "markdown",
   "id": "523b471a",
   "metadata": {},
   "source": [
    "**3.** Leia um a cada 10 e-mails do arquivo gerado (ex., o primeiro, o décimo primeiro, o vigésimo primeiro, etc.) e grave-os num novo arquivo de texto."
   ]
  },
  {
   "cell_type": "code",
   "execution_count": 4,
   "id": "ef483a84",
   "metadata": {},
   "outputs": [
    {
     "data": {
      "text/plain": [
       "['email91@outlook.com',\n",
       " 'email382@uol.com.br',\n",
       " 'email3@outlook.com',\n",
       " 'email541@gmail.com',\n",
       " 'email6@eng.uerj.br']"
      ]
     },
     "execution_count": 4,
     "metadata": {},
     "output_type": "execute_result"
    }
   ],
   "source": [
    "# Leio cada linha, para depois guardar só as que interessam:\n",
    "\n",
    "with open(\"E-mails.txt\", \"r\") as arq:\n",
    "    i_linha = 0\n",
    "    linhas = list()\n",
    "    while True:\n",
    "        linha = arq.readline().replace(\"\\n\", \"\")\n",
    "        if not linha:\n",
    "            break\n",
    "        if i_linha % 10 == 0:\n",
    "            linhas.append(linha)\n",
    "        i_linha += 1\n",
    "\n",
    "linhas[:5]"
   ]
  },
  {
   "cell_type": "code",
   "execution_count": 5,
   "id": "6e96a80e",
   "metadata": {},
   "outputs": [
    {
     "data": {
      "text/plain": [
       "['0, email91@outlook.com',\n",
       " '10, email382@uol.com.br',\n",
       " '20, email3@outlook.com',\n",
       " '30, email541@gmail.com',\n",
       " '40, email6@eng.uerj.br']"
      ]
     },
     "execution_count": 5,
     "metadata": {},
     "output_type": "execute_result"
    }
   ],
   "source": [
    "# Primeiro, leio tudo e depois gravo o que interessa:\n",
    "\n",
    "with open(\"E-mails.txt\", \"r\") as arq:\n",
    "    texto = arq.read().split(\"\\n\")\n",
    "\n",
    "with open(\"E-mails_10.txt\", \"w+\") as arq:\n",
    "    for i in range(0, len(texto), 10):\n",
    "        email = texto[i]\n",
    "        arq.write(str(i) + \", \" + email + \"\\n\")\n",
    "    arq.seek(0)\n",
    "    texto_10 = arq.read().split(\"\\n\")\n",
    "\n",
    "texto_10[:5]"
   ]
  },
  {
   "cell_type": "markdown",
   "id": "06a612bf",
   "metadata": {},
   "source": [
    "As duas soluções acima são ineficientes, pois requerem a leitura de todas as linhas do arquivo."
   ]
  },
  {
   "cell_type": "markdown",
   "id": "8076dfde",
   "metadata": {},
   "source": [
    "**4.** Use a função `Counter` do pacote `collections` para calcular quantos e-mails de cada domínio (ex., gmail.com) há no último arquivo \"E-mails.txt\" gravado."
   ]
  },
  {
   "cell_type": "code",
   "execution_count": 6,
   "id": "327acefb",
   "metadata": {},
   "outputs": [
    {
     "data": {
      "text/plain": [
       "Counter({'outlook.com': 73,\n",
       "         'uerj.br': 18,\n",
       "         'gmail.com': 91,\n",
       "         'uol.com.br': 54,\n",
       "         'rio.gov.br': 43,\n",
       "         'eng.uerj.br': 21})"
      ]
     },
     "execution_count": 6,
     "metadata": {},
     "output_type": "execute_result"
    }
   ],
   "source": [
    "from collections import Counter\n",
    "\n",
    "with open(\"E-mails.txt\", \"r\") as arq:\n",
    "    texto = arq.read().split(\"\\n\")\n",
    "\n",
    "texto = [email.split(\"@\")[1] for email in texto[:-1]]\n",
    "Counter(texto)"
   ]
  },
  {
   "cell_type": "markdown",
   "id": "ce7e851d",
   "metadata": {},
   "source": [
    "**5.** Use o pacote `csv` para ler o arquivo cujo endereço é (https://archive.ics.uci.edu/ml/machine-learning-databases/breast-cancer-wisconsin/breast-cancer-wisconsin.data). Note que os dados são separados por vírgulas, mas o arquivo não contém os nomes de cada coluna. Eles são dados a seguir:\n",
    "\n",
    "   | Nome do atributo            |  Valores  |\n",
    "   |-----------------------------|-----------|\n",
    "   |Sample code number           | código numérico |\n",
    "   |Clump Thickness              | 1 - 10 | \n",
    "   |Uniformity of Cell Size      | 1 - 10 |\n",
    "   |Uniformity of Cell Shape     | 1 - 10 |\n",
    "   |Marginal Adhesion            | 1 - 10 |\n",
    "   |Single Epithelial Cell Size  | 1 - 10 |\n",
    "   |Bare Nuclei                  | 1 - 10 |\n",
    "   |Bland Chromatin              | 1 - 10 |\n",
    "   |Normal Nucleoli              | 1 - 10 |\n",
    "   |Mitoses                      | 1 - 10 |\n",
    "   |Class                        | 2 para benigno, 4 para maligno |\n",
    "   \n",
    "Os dados devem ser guardados num dicionário em que as chaves são os nomes das colunas, e os valores são armazenados em listas."
   ]
  },
  {
   "cell_type": "code",
   "execution_count": 7,
   "id": "5aba22cc",
   "metadata": {},
   "outputs": [
    {
     "data": {
      "text/plain": [
       "('breast-cancer.csv', <http.client.HTTPMessage at 0x165a961fe20>)"
      ]
     },
     "execution_count": 7,
     "metadata": {},
     "output_type": "execute_result"
    }
   ],
   "source": [
    "import urllib.request\n",
    "\n",
    "url = \"https://archive.ics.uci.edu/ml/machine-learning-databases/breast-cancer-wisconsin/breast-cancer-wisconsin.data\"\n",
    "filename = \"breast-cancer.csv\"\n",
    "\n",
    "urllib.request.urlretrieve(url, filename)"
   ]
  },
  {
   "cell_type": "code",
   "execution_count": 8,
   "id": "10fee3e9",
   "metadata": {},
   "outputs": [
    {
     "name": "stdout",
     "output_type": "stream",
     "text": [
      "1000025,5,1,1,1,2,1,3,1,1,2\n",
      "\n",
      "1002945,5,4,4,5,7,10,3,2,1,2\n",
      "\n",
      "1015425,3,1,1,1,2,2,3,1,1,2\n",
      "\n"
     ]
    }
   ],
   "source": [
    "with open(\"breast-cancer.csv\", \"r\") as arq:\n",
    "    for i in range(3):\n",
    "        print(arq.readline())"
   ]
  },
  {
   "cell_type": "code",
   "execution_count": 9,
   "id": "40c4a915",
   "metadata": {
    "scrolled": true
   },
   "outputs": [
    {
     "name": "stdout",
     "output_type": "stream",
     "text": [
      "Três primeiros elementos do dicionário:\n",
      ". Sample code number: ['1000025', '1002945', '1015425']\n",
      ". Clump Thickness: ['5', '5', '3']\n",
      ". Uniformity of Cell Size: ['1', '4', '1']\n",
      ". Uniformity of Cell Shape: ['1', '4', '1']\n",
      ". Marginal Adhesion: ['1', '5', '1']\n",
      ". Single Epithelial Cell Size: ['2', '7', '2']\n",
      ". Bare Nuclei: ['1', '10', '2']\n",
      ". Bland Chromatin: ['3', '3', '3']\n",
      ". Normal Nucleoli: ['1', '2', '1']\n",
      ". Mitoses: ['1', '1', '1']\n",
      ". Class: ['2', '2', '2']\n"
     ]
    }
   ],
   "source": [
    "import csv\n",
    "\n",
    "colunas = [\"Sample code number\", \"Clump Thickness\", \"Uniformity of Cell Size\", \n",
    "           \"Uniformity of Cell Shape\", \"Marginal Adhesion\", \"Single Epithelial Cell Size\",\n",
    "           \"Bare Nuclei\", \"Bland Chromatin\", \"Normal Nucleoli\", \"Mitoses\", \"Class\"]\n",
    "\n",
    "with open(\"breast-cancer.csv\", 'r') as arq:\n",
    "    dic_final = {chave: [] for chave in colunas}\n",
    "    dicionário = csv.DictReader(arq, fieldnames = colunas)\n",
    "    for row in dicionário:\n",
    "        for chave in colunas:\n",
    "            dic_final[chave].append(row[chave])\n",
    "\n",
    "print(\"Três primeiros elementos do dicionário:\")\n",
    "for chave in colunas:\n",
    "    print(\". \" + chave + \":\", dic_final.get(chave)[:3])"
   ]
  }
 ],
 "metadata": {
  "kernelspec": {
   "display_name": "Python 3 (ipykernel)",
   "language": "python",
   "name": "python3"
  },
  "language_info": {
   "codemirror_mode": {
    "name": "ipython",
    "version": 3
   },
   "file_extension": ".py",
   "mimetype": "text/x-python",
   "name": "python",
   "nbconvert_exporter": "python",
   "pygments_lexer": "ipython3",
   "version": "3.8.8"
  },
  "toc": {
   "base_numbering": 1,
   "nav_menu": {},
   "number_sections": true,
   "sideBar": true,
   "skip_h1_title": false,
   "title_cell": "Table of Contents",
   "title_sidebar": "Contents",
   "toc_cell": false,
   "toc_position": {},
   "toc_section_display": true,
   "toc_window_display": false
  },
  "varInspector": {
   "cols": {
    "lenName": 16,
    "lenType": 16,
    "lenVar": 40
   },
   "kernels_config": {
    "python": {
     "delete_cmd_postfix": "",
     "delete_cmd_prefix": "del ",
     "library": "var_list.py",
     "varRefreshCmd": "print(var_dic_list())"
    },
    "r": {
     "delete_cmd_postfix": ") ",
     "delete_cmd_prefix": "rm(",
     "library": "var_list.r",
     "varRefreshCmd": "cat(var_dic_list()) "
    }
   },
   "types_to_exclude": [
    "module",
    "function",
    "builtin_function_or_method",
    "instance",
    "_Feature"
   ],
   "window_display": false
  }
 },
 "nbformat": 4,
 "nbformat_minor": 5
}
