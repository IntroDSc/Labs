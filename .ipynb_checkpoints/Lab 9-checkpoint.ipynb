{
 "cells": [
  {
   "cell_type": "markdown",
   "id": "b7c12b30",
   "metadata": {},
   "source": [
    "<strong><font size = \"4\" color = \"black\">Introdução à Ciência de Dados</font></strong><br>\n",
    "<font size = \"3\" color = \"gray\">Prof. Valter Moreno</font><br>\n",
    "<font size = \"3\" color = \"gray\">2022</font><br>  "
   ]
  },
  {
   "cell_type": "markdown",
   "id": "4a884851",
   "metadata": {},
   "source": [
    "<hr style=\"border:0.1px solid gray\"> </hr>\n",
    "<font size = \"5\">Introdução ao Python</font>\n",
    "<p><font size = \"5\">Laboratório 9: Visualização de Dados</font></p>\n",
    "<hr style=\"border:0.1px solid gray\"> </hr>"
   ]
  },
  {
   "cell_type": "markdown",
   "id": "94d5cf2f",
   "metadata": {},
   "source": [
    "Parte importante do trabalho de um Cientista de Dados é a exploração das bases para gerar *insights* sobre a distribuição dos valores e as relações entre eles. Essa exploração pode ser feita por meio de pesquisas e geração de estatísticas em *DataFrames*, como visto nas aulas anteriores sobre o `pandas`, assim como por meio de gráficos."
   ]
  },
  {
   "cell_type": "markdown",
   "id": "9763d9a0",
   "metadata": {},
   "source": [
    "Seu objetivo neste laboratório é visualizar a distribuição das variáveis e potenciais relações entre elas para uma base de dados sobre os premios de seguros pagos por indivíduos nos EUA. A base pode ser obtida na página [US Health Insurance Dataset](https://www.kaggle.com/teertha/ushealthinsurancedataset)."
   ]
  },
  {
   "cell_type": "markdown",
   "id": "cb81b109",
   "metadata": {},
   "source": [
    "Para gerar seus gráficos, use as funcionalidades que mais lhe convierem dos pacotes `matplotlib`, `seaborn`, e `pandas`."
   ]
  },
  {
   "cell_type": "markdown",
   "id": "94f56396",
   "metadata": {},
   "source": [
    "É imprescindível que você tenha em mente os princípios básicos de visualização de dados em sua análise. Seguem algumas fontes úteis sobre o tema:\n",
    "\n",
    " - [Data visualization: basic principles](https://paldhous.github.io/ucb/2016/dataviz/week2.html)\n",
    " - [Principles of Data Visualization - What We See in a Visual](https://cdn.fusioncharts.com/resources/downloads/whitepapers/principles-of-data-visualization.pdf)\n",
    " - [From Data to Viz](https://www.data-to-viz.com/)\n",
    " - [The 9 Worst Data Visualizations Ever Created](http://livingqlikview.com/the-9-worst-data-visualizations-ever-created/)\n",
    " - [When Data Fails To Tell a Story](https://www.instinctools.com/blog/when-data-fails-to-tell-a-story-data-visualization-mistakes/)"
   ]
  },
  {
   "cell_type": "markdown",
   "id": "d201da40",
   "metadata": {},
   "source": [
    "### Variáveis individuais\n",
    "\n",
    "Primeiramente, analise as características de cada variável, uma a uma. É importante escolher o tipo de gráfico adequado para cada tipo de variável. Tente responder questões tais como:\n",
    "\n",
    " 1. Os valores são homogeneamente distribuídos? Há valores que aparecem com frequência muito maior do que outros?\n",
    " 2. Há valores atípicos?\n",
    " 3. Há valores omitidos (*missing data*)? Se houver, em que proporção?\n",
    "\n",
    "Interprete os resultados sob o ponto de vista prático. O que lhe parecer ser mais importante ou interessante? Sua análise revelou alguma surpresa?"
   ]
  },
  {
   "cell_type": "markdown",
   "id": "34dddc71",
   "metadata": {},
   "source": [
    "### Relações entre variáveis\n",
    "\n",
    "A segunda parte da análise deve se concentrar em revelar potenciais relações entre as variáveis da base de dados. A ideia é avaliar até que ponto variações numa determinada coluna ou variável parecem estar associadas aos valores de uma ou mais das outras variáveis. \n",
    "\n",
    "Essas relações podem se dar entre variáveis categóricas, entre variáveis categóricas e numéricas, e entre variáveis numéricas. Você deve escolher o tipo de gráfico adequado para analisar essas três possibilidades de relação.\n",
    "\n",
    "Tente responder perguntas tais como:\n",
    "\n",
    " 1. O valor de uma variável numérica cresce ou decresce em função do valor de alguma outra variável numérica? Em caso positivo, essa relação parece ser linear ou curvilínea?\n",
    " 2. Há categorias mais ou menos frequentes quando se considera a distribuição de pessoas por alguma outra categoria? As diferenças são substanciais?\n",
    " 3. A distribuição de uma variável numérica muda substancialmente para algum conjunto de categorias?\n",
    " \n",
    "Ao final de sua análise, enfatize suas principais descobertas. Novamente, o que parece ser mais interessante ou surpreendente? As relações que você identificou fazem sentido sob o ponto de vista prático?"
   ]
  }
 ],
 "metadata": {
  "kernelspec": {
   "display_name": "Python 3 (ipykernel)",
   "language": "python",
   "name": "python3"
  },
  "language_info": {
   "codemirror_mode": {
    "name": "ipython",
    "version": 3
   },
   "file_extension": ".py",
   "mimetype": "text/x-python",
   "name": "python",
   "nbconvert_exporter": "python",
   "pygments_lexer": "ipython3",
   "version": "3.8.8"
  },
  "toc": {
   "base_numbering": 1,
   "nav_menu": {},
   "number_sections": true,
   "sideBar": true,
   "skip_h1_title": false,
   "title_cell": "Table of Contents",
   "title_sidebar": "Contents",
   "toc_cell": false,
   "toc_position": {},
   "toc_section_display": true,
   "toc_window_display": false
  },
  "varInspector": {
   "cols": {
    "lenName": 16,
    "lenType": 16,
    "lenVar": 40
   },
   "kernels_config": {
    "python": {
     "delete_cmd_postfix": "",
     "delete_cmd_prefix": "del ",
     "library": "var_list.py",
     "varRefreshCmd": "print(var_dic_list())"
    },
    "r": {
     "delete_cmd_postfix": ") ",
     "delete_cmd_prefix": "rm(",
     "library": "var_list.r",
     "varRefreshCmd": "cat(var_dic_list()) "
    }
   },
   "types_to_exclude": [
    "module",
    "function",
    "builtin_function_or_method",
    "instance",
    "_Feature"
   ],
   "window_display": false
  }
 },
 "nbformat": 4,
 "nbformat_minor": 5
}
