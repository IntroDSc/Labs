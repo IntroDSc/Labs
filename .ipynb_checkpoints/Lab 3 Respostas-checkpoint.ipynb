{
 "cells": [
  {
   "cell_type": "markdown",
   "id": "b7c12b30",
   "metadata": {},
   "source": [
    "<strong><font size = \"4\" color = \"black\">Introdução à Ciência de Dados</font></strong><br>\n",
    "<font size = \"3\" color = \"gray\">Prof. Valter Moreno</font><br>\n",
    "<font size = \"3\" color = \"gray\">2022</font><br>  "
   ]
  },
  {
   "cell_type": "markdown",
   "id": "63096780",
   "metadata": {},
   "source": [
    "<hr style=\"border:0.1px solid gray\"> </hr>\n",
    "<font size = \"5\" color = \"black\">Introdução ao Python</font><p>\n",
    "<font size = \"5\" color = \"black\">Laboratório 3: Classes</font>\n",
    "<hr style=\"border:0.1px solid gray\"> </hr>"
   ]
  },
  {
   "cell_type": "markdown",
   "id": "f850de35",
   "metadata": {},
   "source": [
    "Para completar as tarefas a seguir, será necessário trabalhar com datas. Python inclui um módulo chamado `datetime` que permite a manipulação de datas. Para mais detalhes, consulte as seguintes páginas:\n",
    "\n",
    "  - [W3 Schools: Python Datetime](https://www.w3schools.com/python/python_datetime.asp)\n",
    "  - [Using Python datetime to Work With Dates and Times](https://realpython.com/python-datetime/)\n",
    "  - [Python datetime: Lidando com datas e horários](https://www.alura.com.br/artigos/lidando-com-datas-e-horarios-no-python)\n",
    "  "
   ]
  },
  {
   "cell_type": "markdown",
   "id": "94d5cf2f",
   "metadata": {},
   "source": [
    "**1.** Crie uma classe para funcionários de uma empresa. Os dados associados devem ser o CPF, nome, sobrenome, a data de dascimento, a data de contratação, o cargo, a área em que o funcionário atua, o status (empregado, desligado, aposentado), e, quando pertinente, a data em que deixou a empresa. A classe deve incluir métodos para alterar o nome e o sobrenome, o cargo, a área e o status do funcionário, para calcular a sua idade, e para calcular o número de anos em que ele está na empresa.  "
   ]
  },
  {
   "cell_type": "code",
   "execution_count": 1,
   "id": "e1dd48da",
   "metadata": {
    "scrolled": true
   },
   "outputs": [],
   "source": [
    "from datetime import datetime\n",
    "\n",
    "class Funcionário:\n",
    "    '''\n",
    "    A classe funcionário gera objetos com os seguintes atributos:\n",
    "    - CPF: CPF sem pontos ou traço\n",
    "    - nome\n",
    "    - sobrenome\n",
    "    - data de dascimento: cadeia de caracteres no formato AAAA-MM-DD\n",
    "    - data de contratação: cadeia de caracteres no formato AAAA-MM-DD\n",
    "    - cargo\n",
    "    - área em que o funcionário atua\n",
    "    - status: \"empregado\", \"desligado\" ou \"aposentado\"\n",
    "    - data em que deixou a empresa: cadeia de caracteres no formato AAAA-MM-DD ou em branco\n",
    "    \n",
    "    Os métodos são:\n",
    "    - troca_nome(novo_nome, novo_sobrenome): deixar em branco para não alterar a parte do nome\n",
    "    - troca_cargo(novo_cargo)\n",
    "    - troca_área(nova_área)\n",
    "    - troca_status(novo_status)\n",
    "    - idade()\n",
    "    - tempo_empresa()\n",
    "    '''\n",
    "    \n",
    "    # Construtor:\n",
    "    \n",
    "    def __init__(self, CPF, nome, sobrenome, dt_nascimento, dt_contratação, cargo,\n",
    "                 área, status=\"empregado\", dt_desligamento=\"\"):\n",
    "        self.CPF = CPF\n",
    "        self.nome = nome\n",
    "        self.sobrenome = sobrenome\n",
    "        self.cargo = cargo\n",
    "        self.área = área\n",
    "        \n",
    "        try:\n",
    "            self.dt_nascimento = datetime.strptime(dt_nascimento, \"%Y-%m-%d\")\n",
    "            self.dt_contratação = datetime.strptime(dt_contratação, \"%Y-%m-%d\")\n",
    "            if dt_desligamento:\n",
    "                self.dt_desligamento = datetime.strptime(dt_desligamento, \"%Y-%m-%d\")\n",
    "            else:\n",
    "                self.dt_desligamento = \"\"\n",
    "        except:\n",
    "            print(\"** Erro: As datas devem ser cadeias de caracteres no formato AAAA-MM-DD\")\n",
    "        \n",
    "        try:\n",
    "            if status not in {\"empregado\", \"desligado\", \"aposentado\"}:\n",
    "                raise ValueError('Status deve ser \"empregado\", \"desligado\" ou \"aposentado\".')\n",
    "            else:\n",
    "                self.status = status\n",
    "        except ValueError as error:\n",
    "            print(\"** Erro: \" + repr(error))\n",
    "            \n",
    "    # Médodos\n",
    "    \n",
    "    def troca_nome(self, novo_nome = \"\", novo_sobrenome = \"\"):\n",
    "        if novo_nome:\n",
    "            self.nome = novo_nome\n",
    "        if novo_sobrenome:\n",
    "            self.sobrenome = novo_sobrenome\n",
    "        \n",
    "    def troca_cargo(self, novo_cargo):\n",
    "        self.cargo = novo_cargo\n",
    "\n",
    "    def troca_área(self, nova_área):\n",
    "        self.área = nova_área\n",
    "\n",
    "    def troca_status(self, novo_status):\n",
    "        try:\n",
    "            if novo_status not in {\"empregado\", \"desligado\", \"aposentado\"}:\n",
    "                raise ValueError('Status deve ser \"empregado\", \"desligado\" ou \"aposentado\".')\n",
    "            else:\n",
    "                self.status = novo_status\n",
    "        except ValueError as error:\n",
    "            print(\"** Erro: \" + repr(error))\n",
    "    \n",
    "    def idade(self):\n",
    "        return datetime.now().year - self.dt_nascimento.year\n",
    "    \n",
    "    def tempo_empresa(self):\n",
    "        if self.dt_desligamento:\n",
    "            data = self.dt_desligamento\n",
    "        else:\n",
    "            data = datetime.now()\n",
    "           \n",
    "        return data - self.dt_contratação\n",
    "        \n",
    "    def nome_completo(self):\n",
    "        return self.nome + ' ' + self.sobrenome\n",
    "    \n",
    "    def __repr__(self):\n",
    "        texto = f\"CPF: {self.CPF}\\n\" +                                    \\\n",
    "                f\"Nome completo: {self.nome + ' ' + self.sobrenome}\\n\" +  \\\n",
    "                f\"Cargo: {self.cargo}\\n\" +                                \\\n",
    "                f\"Data de nascimento: {self.dt_nascimento.strftime('%d/%m/%Y')}\\n\" +    \\\n",
    "                f\"Data de contratação: {self.dt_contratação.strftime('%d/%m/%Y')}\\n\" +  \\\n",
    "                f\"Status: {self.status}\\n\" +                              \\\n",
    "                f\"Área: {self.área}\\n\" +                                  \\\n",
    "                f\"Cargo: {self.cargo}\\n\"\n",
    "        if self.dt_desligamento:\n",
    "           texto += f\"Data de desligamento: {self.dt_desligamento.strftime('%d/%m/%Y')}\"\n",
    "        return texto"
   ]
  },
  {
   "cell_type": "code",
   "execution_count": 2,
   "id": "5f0fb9b0",
   "metadata": {},
   "outputs": [
    {
     "name": "stdout",
     "output_type": "stream",
     "text": [
      "CPF: 00000000011\n",
      "Nome completo: Valter Moreno\n",
      "Cargo: Professor\n",
      "Data de nascimento: 18/03/1965\n",
      "Data de contratação: 14/03/2012\n",
      "Status: aposentado\n",
      "Área: Departamento de Eng. Produção\n",
      "Cargo: Professor\n",
      "Data de desligamento: 22/03/2022\n"
     ]
    }
   ],
   "source": [
    "valter = Funcionário(CPF = \"00000000011\", \n",
    "                     nome = \"Valter\", \n",
    "                     sobrenome = \"Moreno\", \n",
    "                     dt_nascimento = \"1965-03-18\", \n",
    "                     dt_contratação = \"2012-03-14\", \n",
    "                     cargo = \"Professor\",\n",
    "                     área = \"Departamento de Eng. Produção\",\n",
    "                     status = \"aposentado\",\n",
    "                     dt_desligamento = \"2022-03-22\")\n",
    "print(valter)"
   ]
  },
  {
   "cell_type": "code",
   "execution_count": 3,
   "id": "22a657d1",
   "metadata": {},
   "outputs": [
    {
     "name": "stdout",
     "output_type": "stream",
     "text": [
      "** Erro: As datas devem ser cadeias de caracteres no formato AAAA-MM-DD\n",
      "** Erro: ValueError('Status deve ser \"empregado\", \"desligado\" ou \"aposentado\".')\n"
     ]
    }
   ],
   "source": [
    "joão = Funcionário(CPF = \"00000000022\", \n",
    "                   nome = \"João\", \n",
    "                   sobrenome = \"Lucena\", \n",
    "                   dt_nascimento = \"1999-12-18\", \n",
    "                   dt_contratação = \"2021/12/14\", \n",
    "                   cargo = \"Professor\",\n",
    "                   área = \"Departamento de Eng. Produção\",\n",
    "                   status = \"outro\")"
   ]
  },
  {
   "cell_type": "code",
   "execution_count": 4,
   "id": "f0aef4d3",
   "metadata": {
    "scrolled": false
   },
   "outputs": [
    {
     "name": "stdout",
     "output_type": "stream",
     "text": [
      "Idade do funcionário Valter Moreno: 57\n"
     ]
    }
   ],
   "source": [
    "print(f\"Idade do funcionário {valter.nome_completo()}: {valter.idade()}\")"
   ]
  },
  {
   "cell_type": "code",
   "execution_count": 5,
   "id": "0fb466e1",
   "metadata": {},
   "outputs": [
    {
     "data": {
      "text/plain": [
       "datetime.timedelta(days=3660)"
      ]
     },
     "execution_count": 5,
     "metadata": {},
     "output_type": "execute_result"
    }
   ],
   "source": [
    "valter.tempo_empresa()"
   ]
  },
  {
   "cell_type": "code",
   "execution_count": 6,
   "id": "c3ab5946",
   "metadata": {},
   "outputs": [
    {
     "name": "stdout",
     "output_type": "stream",
     "text": [
      "Tempo na empresa em anos: 10\n"
     ]
    }
   ],
   "source": [
    "print(f\"Tempo na empresa em anos: {int(valter.tempo_empresa().days/365)}\")"
   ]
  },
  {
   "cell_type": "markdown",
   "id": "d89fccac",
   "metadata": {},
   "source": [
    "**2.** Crie uma subclasse da classe anterior para funcionários que têm cargos de gestão. Ela deve incluir dados do cargo de gestão exercido pelo funcionário, a data em que assumiu o cargo, a data em que deixou o cargo."
   ]
  },
  {
   "cell_type": "code",
   "execution_count": 7,
   "id": "c10b3dc8",
   "metadata": {},
   "outputs": [],
   "source": [
    "class Gestor(Funcionário):\n",
    "    # Contrutor:\n",
    "    def __init__(self, CPF, nome, sobrenome, dt_nascimento, dt_contratação, cargo,\n",
    "                 dt_chefia, área, status=\"empregado\", dt_deixou_chefia = \"\",\n",
    "                 dt_desligamento=\"\"):\n",
    "        super().__init__(CPF, nome, sobrenome, dt_nascimento, dt_contratação, cargo,\n",
    "                         área, status, dt_desligamento)\n",
    "        try:\n",
    "            self.dt_chefia = datetime.strptime(dt_chefia, \"%Y-%m-%d\")\n",
    "            if dt_deixou_chefia:\n",
    "                self.dt_deixou_chefia = datetime.strptime(dt_deixou_chefia, \"%Y-%m-%d\")\n",
    "            else:\n",
    "                self.dt_deixou_chefia = \"\"\n",
    "        except:\n",
    "            print(\"** Erro: As datas devem ser cadeias de caracteres no formato AAAA-MM-DD\")"
   ]
  },
  {
   "cell_type": "code",
   "execution_count": 8,
   "id": "5a32b083",
   "metadata": {},
   "outputs": [
    {
     "name": "stdout",
     "output_type": "stream",
     "text": [
      "CPF: 00000000033\n",
      "Nome completo: Roberto Antunes\n",
      "Cargo: Coordenador\n",
      "Data de nascimento: 21/05/1988\n",
      "Data de contratação: 14/10/2021\n",
      "Status: empregado\n",
      "Área: Departamento de Eng. Produção\n",
      "Cargo: Coordenador\n",
      "\n"
     ]
    }
   ],
   "source": [
    "roberto = Gestor(CPF = \"00000000033\", \n",
    "                 nome = \"Roberto\", \n",
    "                 sobrenome = \"Antunes\", \n",
    "                 dt_nascimento = \"1988-05-21\", \n",
    "                 dt_contratação = \"2021-10-14\",\n",
    "                 dt_chefia = \"2022-01-01\",\n",
    "                 cargo = \"Coordenador\",\n",
    "                 área = \"Departamento de Eng. Produção\")\n",
    "print(roberto)"
   ]
  },
  {
   "cell_type": "code",
   "execution_count": 9,
   "id": "3c027d4c",
   "metadata": {
    "scrolled": false
   },
   "outputs": [
    {
     "name": "stdout",
     "output_type": "stream",
     "text": [
      "Idade do funcionário Roberto Antunes: 34\n",
      "Tempo na empresa em meses: 5\n"
     ]
    }
   ],
   "source": [
    "print(f\"Idade do funcionário {roberto.nome_completo()}: {roberto.idade()}\")\n",
    "print(f\"Tempo na empresa em meses: {int(roberto.tempo_empresa().days/30)}\")"
   ]
  },
  {
   "cell_type": "markdown",
   "id": "59f126c0",
   "metadata": {},
   "source": [
    "**3.** Crie uma classe para representar polinômios de qualquer grau. A classe deve ser inicializada com uma lista com os coeficientes do polinômio. Ela deve incluir os seguintes métodos:\n",
    "\n",
    " - __repr__: mostra o polinômio numa cadeia de caracteres no formato \"an.x^n + an-1.x^n-1 + ... + a0\", onde an é o n-ésimo coeficiente, e assim por diante. O formato pode ser aperfeiçoado usando o LaTeX: $a_n.x^n + a_{n-1}.x^{n-1} + ... + a_0$\n",
    " - valor(x): dado um número real x, retorna o valor do polinômio em x.\n",
    " - deriv():  mostra a derivada primeira do polinômio numa cadeia de caracteres no mesmo formato do método __repr__\n",
    " - raizes(): retorna as raízes do polinômio, usando a função `roots` do módulo *numpy*"
   ]
  },
  {
   "cell_type": "code",
   "execution_count": 59,
   "id": "bbd2a64d",
   "metadata": {},
   "outputs": [],
   "source": [
    "import numpy as np\n",
    "\n",
    "class Polinômio:\n",
    "    \n",
    "    # Construtor:\n",
    "    \n",
    "    def __init__(self, grau, *args):\n",
    "        self.grau = grau\n",
    "        self.coeficientes = list()\n",
    "        for coef in args:\n",
    "            self.coeficientes.append(coef)\n",
    "    \n",
    "    # Métodos:\n",
    "    \n",
    "    def __repr__(self):\n",
    "        texto = \"\" \n",
    "        for i in range(self.grau, 0, -1):\n",
    "            texto += f\"{self.coeficientes[i]}.x^{i} +\"\n",
    "        texto += f\"{self.coeficientes[0]}.x^{0}\"\n",
    "        return texto\n",
    "    \n",
    "    def valor(self, x):\n",
    "        soma = 0\n",
    "        for i in range(0, self.grau + 1):\n",
    "            soma += self.coeficientes[i]*(x**i)\n",
    "        return soma\n",
    "    \n",
    "    def derivada(self):\n",
    "        texto = \"\" \n",
    "        for i in range(self.grau, 1, -1):\n",
    "            texto += f\"{i * self.coeficientes[i]}.x^{i - 1} +\"\n",
    "        texto += f\"{self.coeficientes[1]}.x^{0}\"\n",
    "        return texto\n",
    "\n",
    "    def raízes(self):\n",
    "        coefs = self.coeficientes.copy()\n",
    "        coefs.reverse()\n",
    "        return np.roots(coefs).tolist()"
   ]
  },
  {
   "cell_type": "code",
   "execution_count": 60,
   "id": "1b5d4fe7",
   "metadata": {},
   "outputs": [
    {
     "data": {
      "text/plain": [
       "5.x^5 +4.x^4 +3.x^3 +2.x^2 +1.x^1 +0.x^0"
      ]
     },
     "execution_count": 60,
     "metadata": {},
     "output_type": "execute_result"
    }
   ],
   "source": [
    "poli = Polinômio(5, 0, 1, 2, 3, 4, 5)\n",
    "poli"
   ]
  },
  {
   "cell_type": "code",
   "execution_count": 61,
   "id": "25b4ce46",
   "metadata": {
    "scrolled": true
   },
   "outputs": [
    {
     "data": {
      "text/plain": [
       "258"
      ]
     },
     "execution_count": 61,
     "metadata": {},
     "output_type": "execute_result"
    }
   ],
   "source": [
    "poli.valor(2)"
   ]
  },
  {
   "cell_type": "code",
   "execution_count": 62,
   "id": "8c551cb8",
   "metadata": {},
   "outputs": [
    {
     "data": {
      "text/plain": [
       "'25.x^4 +16.x^3 +9.x^2 +4.x^1 +1.x^0'"
      ]
     },
     "execution_count": 62,
     "metadata": {},
     "output_type": "execute_result"
    }
   ],
   "source": [
    "poli.derivada()"
   ]
  },
  {
   "cell_type": "code",
   "execution_count": 63,
   "id": "49c8391a",
   "metadata": {},
   "outputs": [
    {
     "data": {
      "text/plain": [
       "[(0.1378322749029901+0.6781543891053359j),\n",
       " (0.1378322749029901-0.6781543891053359j),\n",
       " (-0.5378322749029906+0.3582846863451283j),\n",
       " (-0.5378322749029906-0.3582846863451283j),\n",
       " 0j]"
      ]
     },
     "execution_count": 63,
     "metadata": {},
     "output_type": "execute_result"
    }
   ],
   "source": [
    "poli.raízes()"
   ]
  }
 ],
 "metadata": {
  "kernelspec": {
   "display_name": "Python 3 (ipykernel)",
   "language": "python",
   "name": "python3"
  },
  "language_info": {
   "codemirror_mode": {
    "name": "ipython",
    "version": 3
   },
   "file_extension": ".py",
   "mimetype": "text/x-python",
   "name": "python",
   "nbconvert_exporter": "python",
   "pygments_lexer": "ipython3",
   "version": "3.8.8"
  },
  "toc": {
   "base_numbering": 1,
   "nav_menu": {},
   "number_sections": true,
   "sideBar": true,
   "skip_h1_title": false,
   "title_cell": "Table of Contents",
   "title_sidebar": "Contents",
   "toc_cell": false,
   "toc_position": {},
   "toc_section_display": true,
   "toc_window_display": false
  },
  "varInspector": {
   "cols": {
    "lenName": 16,
    "lenType": 16,
    "lenVar": 40
   },
   "kernels_config": {
    "python": {
     "delete_cmd_postfix": "",
     "delete_cmd_prefix": "del ",
     "library": "var_list.py",
     "varRefreshCmd": "print(var_dic_list())"
    },
    "r": {
     "delete_cmd_postfix": ") ",
     "delete_cmd_prefix": "rm(",
     "library": "var_list.r",
     "varRefreshCmd": "cat(var_dic_list()) "
    }
   },
   "types_to_exclude": [
    "module",
    "function",
    "builtin_function_or_method",
    "instance",
    "_Feature"
   ],
   "window_display": false
  }
 },
 "nbformat": 4,
 "nbformat_minor": 5
}
