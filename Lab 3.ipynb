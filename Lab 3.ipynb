{
 "cells": [
  {
   "cell_type": "markdown",
   "id": "b7c12b30",
   "metadata": {},
   "source": [
    "<strong><font size = \"4\" color = \"black\">Introdução à Ciência de Dados</font></strong><br>\n",
    "<font size = \"3\" color = \"gray\">Prof. Valter Moreno</font><br>\n",
    "<font size = \"3\" color = \"gray\">2022</font><br>  "
   ]
  },
  {
   "cell_type": "markdown",
   "id": "63096780",
   "metadata": {},
   "source": [
    "<hr style=\"border:0.1px solid gray\"> </hr>\n",
    "<font size = \"5\" color = \"black\">Introdução ao Python</font><p>\n",
    "<font size = \"5\" color = \"black\">Laboratório 3: Classes</font>\n",
    "<hr style=\"border:0.1px solid gray\"> </hr>"
   ]
  },
  {
   "cell_type": "markdown",
   "id": "f850de35",
   "metadata": {},
   "source": [
    "Para completar as tarefas a seguir, será necessário trabalhar com datas. Python inclui um módulo chamado `datetime` que permite a manipulação de datas. Para mais detalhes, consulte as seguintes páginas:\n",
    "\n",
    "  - [W3 Schools: Python Datetime](https://www.w3schools.com/python/python_datetime.asp)\n",
    "  - [Using Python datetime to Work With Dates and Times](https://realpython.com/python-datetime/)\n",
    "  - [Python datetime: Lidando com datas e horários](https://www.alura.com.br/artigos/lidando-com-datas-e-horarios-no-python)\n",
    "  "
   ]
  },
  {
   "cell_type": "markdown",
   "id": "94d5cf2f",
   "metadata": {},
   "source": [
    "**1.** Crie uma classe para funcionários de uma empresa. Os dados associados devem ser o CPF, nome, sobrenome, a data de dascimento, a data de contratação, o cargo, a área em que o funcionário atua, o status (empregado, desligado, aposentado), e, quando pertinente, a data em que deixou a empresa. A classe deve incluir métodos para alterar o nome e o sobrenome, o cargo, a área e o status do funcionário, para calcular a sua idade, e para calcular o número de anos em que ele está na empresa.  "
   ]
  },
  {
   "cell_type": "markdown",
   "id": "d89fccac",
   "metadata": {},
   "source": [
    "**2.** Crie uma subclasse da classe anterior para funcionários que têm cargos de gestão. Ela deve incluir dados do cargo de gestão exercido pelo funcionário, a data em que assumiu o cargo, a data em que deixou o cargo."
   ]
  },
  {
   "cell_type": "markdown",
   "id": "59f126c0",
   "metadata": {},
   "source": [
    "**3.** Crie uma classe para representar polinômios de qualquer grau. A classe deve ser inicializada com uma lista com os coeficientes do polinômio. Ele deve incluir os seguintes métodos:\n",
    "\n",
    " - __repr__: mostra o polinômio numa cadeia de caracteres no formato \"an.x^n + an-1.x^n-2 + ... + a0\", onde an é o n-ésimo coeficiente, e assim por diante.\n",
    " - valor(x): dado um número real x, retorna o valor do polinômio em x.\n",
    " - deriv():  mostra a derivada primeira do polinômio numa cadeia de caracteres no mesmo formato do método __repr__\n",
    " - raizes(): retorna as raízes do polinômio, usando a função `roots` do módulo *numpy*"
   ]
  }
 ],
 "metadata": {
  "kernelspec": {
   "display_name": "Python 3 (ipykernel)",
   "language": "python",
   "name": "python3"
  },
  "language_info": {
   "codemirror_mode": {
    "name": "ipython",
    "version": 3
   },
   "file_extension": ".py",
   "mimetype": "text/x-python",
   "name": "python",
   "nbconvert_exporter": "python",
   "pygments_lexer": "ipython3",
   "version": "3.8.8"
  },
  "toc": {
   "base_numbering": 1,
   "nav_menu": {},
   "number_sections": true,
   "sideBar": true,
   "skip_h1_title": false,
   "title_cell": "Table of Contents",
   "title_sidebar": "Contents",
   "toc_cell": false,
   "toc_position": {},
   "toc_section_display": true,
   "toc_window_display": false
  },
  "varInspector": {
   "cols": {
    "lenName": 16,
    "lenType": 16,
    "lenVar": 40
   },
   "kernels_config": {
    "python": {
     "delete_cmd_postfix": "",
     "delete_cmd_prefix": "del ",
     "library": "var_list.py",
     "varRefreshCmd": "print(var_dic_list())"
    },
    "r": {
     "delete_cmd_postfix": ") ",
     "delete_cmd_prefix": "rm(",
     "library": "var_list.r",
     "varRefreshCmd": "cat(var_dic_list()) "
    }
   },
   "types_to_exclude": [
    "module",
    "function",
    "builtin_function_or_method",
    "instance",
    "_Feature"
   ],
   "window_display": false
  }
 },
 "nbformat": 4,
 "nbformat_minor": 5
}
