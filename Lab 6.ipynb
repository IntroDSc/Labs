{
 "cells": [
  {
   "cell_type": "markdown",
   "id": "b7c12b30",
   "metadata": {},
   "source": [
    "<strong><font size = \"4\" color = \"black\">Introdução à Ciência de Dados</font></strong><br>\n",
    "<font size = \"3\" color = \"gray\">Prof. Valter Moreno</font><br>\n",
    "<font size = \"3\" color = \"gray\">2022</font><br>  "
   ]
  },
  {
   "cell_type": "markdown",
   "id": "63096780",
   "metadata": {},
   "source": [
    "<hr style=\"border:0.1px solid gray\"> </hr>\n",
    "<font size = \"5\">Introdução ao Python</font>\n",
    "<p><font size = \"5\">Laboratório 6: Álgebra Linear com Numpy</font></p>\n",
    "<hr style=\"border:0.1px solid gray\"> </hr>"
   ]
  },
  {
   "cell_type": "markdown",
   "id": "94d5cf2f",
   "metadata": {},
   "source": [
    "O website oficial do `numpy` inclui uma série de recursos para que se possa aprender a usar o pacote. Em particular, há [tutoriais](https://numpy.org/numpy-tutorials/index.html) demonstrando como o `numpy` pode ser aplicado em problemas reais na áera de Inteligência Artificial."
   ]
  },
  {
   "cell_type": "markdown",
   "id": "9763d9a0",
   "metadata": {},
   "source": [
    "Neste laboratório, você deverá seguir o tutorial [Linear algebra on n-dimensional arrays](https://numpy.org/numpy-tutorials/content/tutorial-svd.html), porém usando como base sua própria foto. Há dicas no tutorial sobre como preparar fotos para que possam ser processadas no script."
   ]
  },
  {
   "cell_type": "markdown",
   "id": "dcad4ba0",
   "metadata": {},
   "source": [
    "É esperado que você precise encontrar mais informações na Internet para completar o tutorial. Lembre-se de compartilhar suas experiências e problemas com seus colegas! A capacidade de trabalhar em equipes de forma produtiva é essencial para um cientista ou analista de dados! ;-D"
   ]
  }
 ],
 "metadata": {
  "kernelspec": {
   "display_name": "Python 3 (ipykernel)",
   "language": "python",
   "name": "python3"
  },
  "language_info": {
   "codemirror_mode": {
    "name": "ipython",
    "version": 3
   },
   "file_extension": ".py",
   "mimetype": "text/x-python",
   "name": "python",
   "nbconvert_exporter": "python",
   "pygments_lexer": "ipython3",
   "version": "3.8.8"
  },
  "toc": {
   "base_numbering": 1,
   "nav_menu": {},
   "number_sections": true,
   "sideBar": true,
   "skip_h1_title": false,
   "title_cell": "Table of Contents",
   "title_sidebar": "Contents",
   "toc_cell": false,
   "toc_position": {},
   "toc_section_display": true,
   "toc_window_display": false
  },
  "varInspector": {
   "cols": {
    "lenName": 16,
    "lenType": 16,
    "lenVar": 40
   },
   "kernels_config": {
    "python": {
     "delete_cmd_postfix": "",
     "delete_cmd_prefix": "del ",
     "library": "var_list.py",
     "varRefreshCmd": "print(var_dic_list())"
    },
    "r": {
     "delete_cmd_postfix": ") ",
     "delete_cmd_prefix": "rm(",
     "library": "var_list.r",
     "varRefreshCmd": "cat(var_dic_list()) "
    }
   },
   "types_to_exclude": [
    "module",
    "function",
    "builtin_function_or_method",
    "instance",
    "_Feature"
   ],
   "window_display": false
  }
 },
 "nbformat": 4,
 "nbformat_minor": 5
}
