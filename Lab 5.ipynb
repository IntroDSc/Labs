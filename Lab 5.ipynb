{
 "cells": [
  {
   "cell_type": "markdown",
   "id": "b7c12b30",
   "metadata": {},
   "source": [
    "<strong><font size = \"4\" color = \"black\">Introdução à Ciência de Dados</font></strong><br>\n",
    "<font size = \"3\" color = \"gray\">Prof. Valter Moreno</font><br>\n",
    "<font size = \"3\" color = \"gray\">2022</font><br>  "
   ]
  },
  {
   "cell_type": "markdown",
   "id": "63096780",
   "metadata": {},
   "source": [
    "<hr style=\"border:0.1px solid gray\"> </hr>\n",
    "<font size = \"5\">Introdução ao Python</font><p>\n",
    "<font size = \"5\">Laboratório 5: Geradores e Números Aleatórios</font></p>\n",
    "<hr style=\"border:0.1px solid gray\"> </hr>"
   ]
  },
  {
   "cell_type": "markdown",
   "id": "94d5cf2f",
   "metadata": {},
   "source": [
    "**1.** Crie uma classe que instancia geradores. O gerador deve retornar uma lista com as palavras de cada linha de um dado arquivo de texto. \n",
    "  - O caminho para o arquivo é fornecido quando um objeto da classe é criado.\n",
    "  - A classe deve ter métodos:\n",
    "    1. para ler e retornar todo o texto do arquivo como uma cadeia de caracteres; e\n",
    "    2. para ler a próxima linha do arquivo e retornar as palavras dessa linha numa lista (gerador).\n",
    "  - Deve-se tratar potenciais exceções."
   ]
  },
  {
   "cell_type": "markdown",
   "id": "d89fccac",
   "metadata": {},
   "source": [
    "**2.** Crie uma função geradora de números aleatórios normalmente distribuídos, com média e desvio padrão sorteados aleatoriamente de uma distribuição uniforme com limites 0.0 e 1.0. A função deve receber como argumento a semente a ser usada pelo gerador de números aleatórios do Python (*seed*)."
   ]
  },
  {
   "cell_type": "markdown",
   "id": "59f126c0",
   "metadata": {},
   "source": [
    "**3.** Use um gerador para contar quantas flores do tipo Virginica, Setosa e Versicolor o dataset iris (https://archive.ics.uci.edu/ml/machine-learning-databases/iris/iris.data) contém. A ideia é não precisar ler todo o arquivo de uma vez para fazer as contagens."
   ]
  }
 ],
 "metadata": {
  "kernelspec": {
   "display_name": "Python 3 (ipykernel)",
   "language": "python",
   "name": "python3"
  },
  "language_info": {
   "codemirror_mode": {
    "name": "ipython",
    "version": 3
   },
   "file_extension": ".py",
   "mimetype": "text/x-python",
   "name": "python",
   "nbconvert_exporter": "python",
   "pygments_lexer": "ipython3",
   "version": "3.8.8"
  },
  "toc": {
   "base_numbering": 1,
   "nav_menu": {},
   "number_sections": true,
   "sideBar": true,
   "skip_h1_title": false,
   "title_cell": "Table of Contents",
   "title_sidebar": "Contents",
   "toc_cell": false,
   "toc_position": {},
   "toc_section_display": true,
   "toc_window_display": false
  },
  "varInspector": {
   "cols": {
    "lenName": 16,
    "lenType": 16,
    "lenVar": 40
   },
   "kernels_config": {
    "python": {
     "delete_cmd_postfix": "",
     "delete_cmd_prefix": "del ",
     "library": "var_list.py",
     "varRefreshCmd": "print(var_dic_list())"
    },
    "r": {
     "delete_cmd_postfix": ") ",
     "delete_cmd_prefix": "rm(",
     "library": "var_list.r",
     "varRefreshCmd": "cat(var_dic_list()) "
    }
   },
   "types_to_exclude": [
    "module",
    "function",
    "builtin_function_or_method",
    "instance",
    "_Feature"
   ],
   "window_display": false
  }
 },
 "nbformat": 4,
 "nbformat_minor": 5
}
