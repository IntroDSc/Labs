{
 "cells": [
  {
   "cell_type": "markdown",
   "id": "b7c12b30",
   "metadata": {},
   "source": [
    "<strong><font size = \"4\" color = \"black\">Introdução à Ciência de Dados</font></strong><br>\n",
    "<font size = \"3\" color = \"gray\">Prof. Valter Moreno</font><br>\n",
    "<font size = \"3\" color = \"gray\">2022</font><br>  "
   ]
  },
  {
   "cell_type": "markdown",
   "id": "63096780",
   "metadata": {},
   "source": [
    "<hr style=\"border:0.1px solid gray\"> </hr>\n",
    "<font size = \"5\" color = \"black\">Introdução ao Python</font><p>\n",
    "<font size = \"5\" color = \"black\">Laboratório 2: Controle de Fluxo, Funções e Exceções</font>\n",
    "<hr style=\"border:0.1px solid gray\"> </hr>"
   ]
  },
  {
   "cell_type": "markdown",
   "id": "a734b750",
   "metadata": {},
   "source": [
    "**1.** Crie uma função que receba um número indeterminado de valores inteiros e retorne a sua média, o seu desvio padrão, o seu máximo, e o seu mínimo."
   ]
  },
  {
   "cell_type": "markdown",
   "id": "d89fccac",
   "metadata": {},
   "source": [
    "**2.** Crie uma função que receba dois números inteiros, N e k, e retorne a combinação de N k a k."
   ]
  },
  {
   "cell_type": "markdown",
   "id": "59f126c0",
   "metadata": {},
   "source": [
    "**3.** Crie uma função que receba duas matrizes e retorne o seu produto. Assuma que as matrizes são dadas como listas de listas que representam suas linhas."
   ]
  },
  {
   "cell_type": "markdown",
   "id": "ed0f22dc",
   "metadata": {},
   "source": [
    "**4.** [Project Euler: problem 3:](https://projecteuler.net/problem=3) Os fatores primos de 13195 são 5, 7, 13 e 29. Crie uma função que determine o maior fator primo de um número natural n. Use a função para identificar o maior fator primo do número 600851475143."
   ]
  },
  {
   "cell_type": "markdown",
   "id": "452821aa",
   "metadata": {},
   "source": [
    "<font color=\"red\"><strong><u>Atenção</u>:</strong></font> \n",
    "\n",
    " 1. Trate potenciais exceções (erros) em todas as suas funções.\n",
    " 2. Use o comando mágico `%%time` do Jupyter Notebook para medir quanto tempo suas soluções demoram para rodar (outra alternativa é o comando mágico `%%timeit`). Outros comandos mágicos úteis são descritos na página [Top 8 magic commands in Jupyter Notebook](https://towardsdatascience.com/top-8-magic-commands-in-jupyter-notebook-c1582e813560)"
   ]
  },
  {
   "cell_type": "code",
   "execution_count": 23,
   "id": "0ef3ac98",
   "metadata": {},
   "outputs": [
    {
     "name": "stdout",
     "output_type": "stream",
     "text": [
      "Wall time: 12 ms\n"
     ]
    }
   ],
   "source": [
    "%%time\n",
    "for i in range(int(1E5)):\n",
    "    pass"
   ]
  },
  {
   "cell_type": "code",
   "execution_count": 24,
   "id": "2d58c767",
   "metadata": {},
   "outputs": [
    {
     "name": "stdout",
     "output_type": "stream",
     "text": [
      "3.39 ms ± 284 µs per loop (mean ± std. dev. of 7 runs, 100 loops each)\n"
     ]
    }
   ],
   "source": [
    "%%timeit\n",
    "for i in range(int(1E5)):\n",
    "    pass"
   ]
  }
 ],
 "metadata": {
  "kernelspec": {
   "display_name": "Python 3 (ipykernel)",
   "language": "python",
   "name": "python3"
  },
  "language_info": {
   "codemirror_mode": {
    "name": "ipython",
    "version": 3
   },
   "file_extension": ".py",
   "mimetype": "text/x-python",
   "name": "python",
   "nbconvert_exporter": "python",
   "pygments_lexer": "ipython3",
   "version": "3.8.8"
  },
  "toc": {
   "base_numbering": 1,
   "nav_menu": {},
   "number_sections": true,
   "sideBar": true,
   "skip_h1_title": false,
   "title_cell": "Table of Contents",
   "title_sidebar": "Contents",
   "toc_cell": false,
   "toc_position": {},
   "toc_section_display": true,
   "toc_window_display": false
  },
  "varInspector": {
   "cols": {
    "lenName": 16,
    "lenType": 16,
    "lenVar": 40
   },
   "kernels_config": {
    "python": {
     "delete_cmd_postfix": "",
     "delete_cmd_prefix": "del ",
     "library": "var_list.py",
     "varRefreshCmd": "print(var_dic_list())"
    },
    "r": {
     "delete_cmd_postfix": ") ",
     "delete_cmd_prefix": "rm(",
     "library": "var_list.r",
     "varRefreshCmd": "cat(var_dic_list()) "
    }
   },
   "types_to_exclude": [
    "module",
    "function",
    "builtin_function_or_method",
    "instance",
    "_Feature"
   ],
   "window_display": false
  }
 },
 "nbformat": 4,
 "nbformat_minor": 5
}
